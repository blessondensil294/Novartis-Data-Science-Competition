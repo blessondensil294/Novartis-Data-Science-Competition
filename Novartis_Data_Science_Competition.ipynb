{
  "nbformat": 4,
  "nbformat_minor": 0,
  "metadata": {
    "colab": {
      "name": "Novartis Data Science Competition.ipynb",
      "provenance": [],
      "toc_visible": true,
      "authorship_tag": "ABX9TyPyRYkTANtKq5r72zKGVguH",
      "include_colab_link": true
    },
    "kernelspec": {
      "name": "python3",
      "display_name": "Python 3"
    }
  },
  "cells": [
    {
      "cell_type": "markdown",
      "metadata": {
        "id": "view-in-github",
        "colab_type": "text"
      },
      "source": [
        "<a href=\"https://colab.research.google.com/github/blessondensil294/Novartis-Data-Science-Competition/blob/master/Novartis_Data_Science_Competition.ipynb\" target=\"_parent\"><img src=\"https://colab.research.google.com/assets/colab-badge.svg\" alt=\"Open In Colab\"/></a>"
      ]
    },
    {
      "cell_type": "markdown",
      "metadata": {
        "id": "-HOToS4xBS78",
        "colab_type": "text"
      },
      "source": [
        "# Novartis Data Science Hiring challenge"
      ]
    },
    {
      "cell_type": "markdown",
      "metadata": {
        "id": "SbyEuemeB5yO",
        "colab_type": "text"
      },
      "source": [
        "To Predict if the server will be hacked or not"
      ]
    },
    {
      "cell_type": "markdown",
      "metadata": {
        "id": "rVSeoSJ-CBEQ",
        "colab_type": "text"
      },
      "source": [
        "## Load the data from Github"
      ]
    },
    {
      "cell_type": "code",
      "metadata": {
        "id": "-cZWTC7pBVPT",
        "colab_type": "code",
        "colab": {}
      },
      "source": [
        "import numpy as np\n",
        "import pandas as pd\n",
        "df_Test_url = 'https://raw.githubusercontent.com/blessondensil294/Novartis-Data-Science-Competition/master/Data/Test.csv'\n",
        "df_Train_url = 'https://raw.githubusercontent.com/blessondensil294/Novartis-Data-Science-Competition/master/Data/Train.csv'\n",
        "df_Train = pd.read_csv(df_Train_url)\n",
        "df_Test = pd.read_csv(df_Test_url)"
      ],
      "execution_count": 0,
      "outputs": []
    },
    {
      "cell_type": "markdown",
      "metadata": {
        "id": "rXJf7HkxDXp9",
        "colab_type": "text"
      },
      "source": [
        "## Exploratory Data Analysis"
      ]
    },
    {
      "cell_type": "code",
      "metadata": {
        "id": "W6DX_9mFDSz7",
        "colab_type": "code",
        "colab": {
          "base_uri": "https://localhost:8080/",
          "height": 197
        },
        "outputId": "8c867445-fd76-436e-aea7-ec42e03f64d5"
      },
      "source": [
        "df_Train.head()"
      ],
      "execution_count": 3,
      "outputs": [
        {
          "output_type": "execute_result",
          "data": {
            "text/html": [
              "<div>\n",
              "<style scoped>\n",
              "    .dataframe tbody tr th:only-of-type {\n",
              "        vertical-align: middle;\n",
              "    }\n",
              "\n",
              "    .dataframe tbody tr th {\n",
              "        vertical-align: top;\n",
              "    }\n",
              "\n",
              "    .dataframe thead th {\n",
              "        text-align: right;\n",
              "    }\n",
              "</style>\n",
              "<table border=\"1\" class=\"dataframe\">\n",
              "  <thead>\n",
              "    <tr style=\"text-align: right;\">\n",
              "      <th></th>\n",
              "      <th>INCIDENT_ID</th>\n",
              "      <th>DATE</th>\n",
              "      <th>X_1</th>\n",
              "      <th>X_2</th>\n",
              "      <th>X_3</th>\n",
              "      <th>X_4</th>\n",
              "      <th>X_5</th>\n",
              "      <th>X_6</th>\n",
              "      <th>X_7</th>\n",
              "      <th>X_8</th>\n",
              "      <th>X_9</th>\n",
              "      <th>X_10</th>\n",
              "      <th>X_11</th>\n",
              "      <th>X_12</th>\n",
              "      <th>X_13</th>\n",
              "      <th>X_14</th>\n",
              "      <th>X_15</th>\n",
              "      <th>MULTIPLE_OFFENSE</th>\n",
              "    </tr>\n",
              "  </thead>\n",
              "  <tbody>\n",
              "    <tr>\n",
              "      <th>0</th>\n",
              "      <td>CR_102659</td>\n",
              "      <td>04-JUL-04</td>\n",
              "      <td>0</td>\n",
              "      <td>36</td>\n",
              "      <td>34</td>\n",
              "      <td>2</td>\n",
              "      <td>1</td>\n",
              "      <td>5</td>\n",
              "      <td>6</td>\n",
              "      <td>1</td>\n",
              "      <td>6</td>\n",
              "      <td>1</td>\n",
              "      <td>174</td>\n",
              "      <td>1.0</td>\n",
              "      <td>92</td>\n",
              "      <td>29</td>\n",
              "      <td>36</td>\n",
              "      <td>0</td>\n",
              "    </tr>\n",
              "    <tr>\n",
              "      <th>1</th>\n",
              "      <td>CR_189752</td>\n",
              "      <td>18-JUL-17</td>\n",
              "      <td>1</td>\n",
              "      <td>37</td>\n",
              "      <td>37</td>\n",
              "      <td>0</td>\n",
              "      <td>0</td>\n",
              "      <td>11</td>\n",
              "      <td>17</td>\n",
              "      <td>1</td>\n",
              "      <td>6</td>\n",
              "      <td>1</td>\n",
              "      <td>236</td>\n",
              "      <td>1.0</td>\n",
              "      <td>103</td>\n",
              "      <td>142</td>\n",
              "      <td>34</td>\n",
              "      <td>1</td>\n",
              "    </tr>\n",
              "    <tr>\n",
              "      <th>2</th>\n",
              "      <td>CR_184637</td>\n",
              "      <td>15-MAR-17</td>\n",
              "      <td>0</td>\n",
              "      <td>3</td>\n",
              "      <td>2</td>\n",
              "      <td>3</td>\n",
              "      <td>5</td>\n",
              "      <td>1</td>\n",
              "      <td>0</td>\n",
              "      <td>2</td>\n",
              "      <td>3</td>\n",
              "      <td>1</td>\n",
              "      <td>174</td>\n",
              "      <td>1.0</td>\n",
              "      <td>110</td>\n",
              "      <td>93</td>\n",
              "      <td>34</td>\n",
              "      <td>1</td>\n",
              "    </tr>\n",
              "    <tr>\n",
              "      <th>3</th>\n",
              "      <td>CR_139071</td>\n",
              "      <td>13-FEB-09</td>\n",
              "      <td>0</td>\n",
              "      <td>33</td>\n",
              "      <td>32</td>\n",
              "      <td>2</td>\n",
              "      <td>1</td>\n",
              "      <td>7</td>\n",
              "      <td>1</td>\n",
              "      <td>1</td>\n",
              "      <td>6</td>\n",
              "      <td>1</td>\n",
              "      <td>249</td>\n",
              "      <td>1.0</td>\n",
              "      <td>72</td>\n",
              "      <td>29</td>\n",
              "      <td>34</td>\n",
              "      <td>1</td>\n",
              "    </tr>\n",
              "    <tr>\n",
              "      <th>4</th>\n",
              "      <td>CR_109335</td>\n",
              "      <td>13-APR-05</td>\n",
              "      <td>0</td>\n",
              "      <td>33</td>\n",
              "      <td>32</td>\n",
              "      <td>2</td>\n",
              "      <td>1</td>\n",
              "      <td>8</td>\n",
              "      <td>3</td>\n",
              "      <td>0</td>\n",
              "      <td>5</td>\n",
              "      <td>1</td>\n",
              "      <td>174</td>\n",
              "      <td>0.0</td>\n",
              "      <td>112</td>\n",
              "      <td>29</td>\n",
              "      <td>43</td>\n",
              "      <td>1</td>\n",
              "    </tr>\n",
              "  </tbody>\n",
              "</table>\n",
              "</div>"
            ],
            "text/plain": [
              "  INCIDENT_ID       DATE  X_1  X_2  ...  X_13  X_14  X_15  MULTIPLE_OFFENSE\n",
              "0   CR_102659  04-JUL-04    0   36  ...    92    29    36                 0\n",
              "1   CR_189752  18-JUL-17    1   37  ...   103   142    34                 1\n",
              "2   CR_184637  15-MAR-17    0    3  ...   110    93    34                 1\n",
              "3   CR_139071  13-FEB-09    0   33  ...    72    29    34                 1\n",
              "4   CR_109335  13-APR-05    0   33  ...   112    29    43                 1\n",
              "\n",
              "[5 rows x 18 columns]"
            ]
          },
          "metadata": {
            "tags": []
          },
          "execution_count": 3
        }
      ]
    },
    {
      "cell_type": "code",
      "metadata": {
        "id": "zHRbmTGbEnxw",
        "colab_type": "code",
        "colab": {
          "base_uri": "https://localhost:8080/",
          "height": 400
        },
        "outputId": "139b4a26-18ce-4f7e-99b1-6c61595bc769"
      },
      "source": [
        "df_Train.info()"
      ],
      "execution_count": 31,
      "outputs": [
        {
          "output_type": "stream",
          "text": [
            "<class 'pandas.core.frame.DataFrame'>\n",
            "Int64Index: 18814 entries, 0 to 23854\n",
            "Data columns (total 16 columns):\n",
            " #   Column            Non-Null Count  Dtype  \n",
            "---  ------            --------------  -----  \n",
            " 0   X_1               18814 non-null  int64  \n",
            " 1   X_2               18814 non-null  int64  \n",
            " 2   X_3               18814 non-null  int64  \n",
            " 3   X_4               18814 non-null  int64  \n",
            " 4   X_5               18814 non-null  int64  \n",
            " 5   X_6               18814 non-null  int64  \n",
            " 6   X_7               18814 non-null  int64  \n",
            " 7   X_8               18814 non-null  int64  \n",
            " 8   X_9               18814 non-null  int64  \n",
            " 9   X_10              18814 non-null  int64  \n",
            " 10  X_11              18814 non-null  int64  \n",
            " 11  X_12              18814 non-null  float64\n",
            " 12  X_13              18814 non-null  int64  \n",
            " 13  X_14              18814 non-null  int64  \n",
            " 14  X_15              18814 non-null  int64  \n",
            " 15  MULTIPLE_OFFENSE  18814 non-null  int64  \n",
            "dtypes: float64(1), int64(15)\n",
            "memory usage: 2.4 MB\n"
          ],
          "name": "stdout"
        }
      ]
    },
    {
      "cell_type": "code",
      "metadata": {
        "id": "-YuYCBmyErCM",
        "colab_type": "code",
        "colab": {
          "base_uri": "https://localhost:8080/",
          "height": 307
        },
        "outputId": "7054d0a7-d504-42f1-9b7f-5740ccebe458"
      },
      "source": [
        "df_Train.describe()"
      ],
      "execution_count": 5,
      "outputs": [
        {
          "output_type": "execute_result",
          "data": {
            "text/html": [
              "<div>\n",
              "<style scoped>\n",
              "    .dataframe tbody tr th:only-of-type {\n",
              "        vertical-align: middle;\n",
              "    }\n",
              "\n",
              "    .dataframe tbody tr th {\n",
              "        vertical-align: top;\n",
              "    }\n",
              "\n",
              "    .dataframe thead th {\n",
              "        text-align: right;\n",
              "    }\n",
              "</style>\n",
              "<table border=\"1\" class=\"dataframe\">\n",
              "  <thead>\n",
              "    <tr style=\"text-align: right;\">\n",
              "      <th></th>\n",
              "      <th>X_1</th>\n",
              "      <th>X_2</th>\n",
              "      <th>X_3</th>\n",
              "      <th>X_4</th>\n",
              "      <th>X_5</th>\n",
              "      <th>X_6</th>\n",
              "      <th>X_7</th>\n",
              "      <th>X_8</th>\n",
              "      <th>X_9</th>\n",
              "      <th>X_10</th>\n",
              "      <th>X_11</th>\n",
              "      <th>X_12</th>\n",
              "      <th>X_13</th>\n",
              "      <th>X_14</th>\n",
              "      <th>X_15</th>\n",
              "      <th>MULTIPLE_OFFENSE</th>\n",
              "    </tr>\n",
              "  </thead>\n",
              "  <tbody>\n",
              "    <tr>\n",
              "      <th>count</th>\n",
              "      <td>23856.000000</td>\n",
              "      <td>23856.000000</td>\n",
              "      <td>23856.000000</td>\n",
              "      <td>23856.000000</td>\n",
              "      <td>23856.000000</td>\n",
              "      <td>23856.000000</td>\n",
              "      <td>23856.000000</td>\n",
              "      <td>23856.000000</td>\n",
              "      <td>23856.000000</td>\n",
              "      <td>23856.000000</td>\n",
              "      <td>23856.000000</td>\n",
              "      <td>23674.000000</td>\n",
              "      <td>23856.000000</td>\n",
              "      <td>23856.000000</td>\n",
              "      <td>23856.000000</td>\n",
              "      <td>23856.000000</td>\n",
              "    </tr>\n",
              "    <tr>\n",
              "      <th>mean</th>\n",
              "      <td>0.483778</td>\n",
              "      <td>24.791206</td>\n",
              "      <td>24.637450</td>\n",
              "      <td>4.276744</td>\n",
              "      <td>2.455609</td>\n",
              "      <td>6.154175</td>\n",
              "      <td>4.876509</td>\n",
              "      <td>0.972460</td>\n",
              "      <td>4.924128</td>\n",
              "      <td>1.244802</td>\n",
              "      <td>206.954519</td>\n",
              "      <td>0.974064</td>\n",
              "      <td>85.237383</td>\n",
              "      <td>72.674296</td>\n",
              "      <td>33.464747</td>\n",
              "      <td>0.955231</td>\n",
              "    </tr>\n",
              "    <tr>\n",
              "      <th>std</th>\n",
              "      <td>1.439738</td>\n",
              "      <td>15.240231</td>\n",
              "      <td>15.135093</td>\n",
              "      <td>2.944672</td>\n",
              "      <td>1.963095</td>\n",
              "      <td>4.471756</td>\n",
              "      <td>3.881931</td>\n",
              "      <td>1.453144</td>\n",
              "      <td>1.362625</td>\n",
              "      <td>1.119301</td>\n",
              "      <td>93.033348</td>\n",
              "      <td>1.167725</td>\n",
              "      <td>27.597226</td>\n",
              "      <td>43.297320</td>\n",
              "      <td>8.386834</td>\n",
              "      <td>0.206800</td>\n",
              "    </tr>\n",
              "    <tr>\n",
              "      <th>min</th>\n",
              "      <td>0.000000</td>\n",
              "      <td>0.000000</td>\n",
              "      <td>0.000000</td>\n",
              "      <td>0.000000</td>\n",
              "      <td>0.000000</td>\n",
              "      <td>1.000000</td>\n",
              "      <td>0.000000</td>\n",
              "      <td>0.000000</td>\n",
              "      <td>0.000000</td>\n",
              "      <td>1.000000</td>\n",
              "      <td>0.000000</td>\n",
              "      <td>0.000000</td>\n",
              "      <td>0.000000</td>\n",
              "      <td>0.000000</td>\n",
              "      <td>0.000000</td>\n",
              "      <td>0.000000</td>\n",
              "    </tr>\n",
              "    <tr>\n",
              "      <th>25%</th>\n",
              "      <td>0.000000</td>\n",
              "      <td>7.000000</td>\n",
              "      <td>8.000000</td>\n",
              "      <td>2.000000</td>\n",
              "      <td>1.000000</td>\n",
              "      <td>3.000000</td>\n",
              "      <td>2.000000</td>\n",
              "      <td>0.000000</td>\n",
              "      <td>5.000000</td>\n",
              "      <td>1.000000</td>\n",
              "      <td>174.000000</td>\n",
              "      <td>1.000000</td>\n",
              "      <td>72.000000</td>\n",
              "      <td>29.000000</td>\n",
              "      <td>34.000000</td>\n",
              "      <td>1.000000</td>\n",
              "    </tr>\n",
              "    <tr>\n",
              "      <th>50%</th>\n",
              "      <td>0.000000</td>\n",
              "      <td>24.000000</td>\n",
              "      <td>24.000000</td>\n",
              "      <td>4.000000</td>\n",
              "      <td>3.000000</td>\n",
              "      <td>5.000000</td>\n",
              "      <td>4.000000</td>\n",
              "      <td>1.000000</td>\n",
              "      <td>5.000000</td>\n",
              "      <td>1.000000</td>\n",
              "      <td>249.000000</td>\n",
              "      <td>1.000000</td>\n",
              "      <td>98.000000</td>\n",
              "      <td>62.000000</td>\n",
              "      <td>34.000000</td>\n",
              "      <td>1.000000</td>\n",
              "    </tr>\n",
              "    <tr>\n",
              "      <th>75%</th>\n",
              "      <td>0.000000</td>\n",
              "      <td>36.000000</td>\n",
              "      <td>35.000000</td>\n",
              "      <td>6.000000</td>\n",
              "      <td>5.000000</td>\n",
              "      <td>8.000000</td>\n",
              "      <td>7.000000</td>\n",
              "      <td>1.000000</td>\n",
              "      <td>6.000000</td>\n",
              "      <td>1.000000</td>\n",
              "      <td>249.000000</td>\n",
              "      <td>1.000000</td>\n",
              "      <td>103.000000</td>\n",
              "      <td>107.000000</td>\n",
              "      <td>34.000000</td>\n",
              "      <td>1.000000</td>\n",
              "    </tr>\n",
              "    <tr>\n",
              "      <th>max</th>\n",
              "      <td>7.000000</td>\n",
              "      <td>52.000000</td>\n",
              "      <td>52.000000</td>\n",
              "      <td>10.000000</td>\n",
              "      <td>5.000000</td>\n",
              "      <td>19.000000</td>\n",
              "      <td>18.000000</td>\n",
              "      <td>99.000000</td>\n",
              "      <td>6.000000</td>\n",
              "      <td>90.000000</td>\n",
              "      <td>332.000000</td>\n",
              "      <td>90.000000</td>\n",
              "      <td>116.000000</td>\n",
              "      <td>142.000000</td>\n",
              "      <td>50.000000</td>\n",
              "      <td>1.000000</td>\n",
              "    </tr>\n",
              "  </tbody>\n",
              "</table>\n",
              "</div>"
            ],
            "text/plain": [
              "                X_1           X_2  ...          X_15  MULTIPLE_OFFENSE\n",
              "count  23856.000000  23856.000000  ...  23856.000000      23856.000000\n",
              "mean       0.483778     24.791206  ...     33.464747          0.955231\n",
              "std        1.439738     15.240231  ...      8.386834          0.206800\n",
              "min        0.000000      0.000000  ...      0.000000          0.000000\n",
              "25%        0.000000      7.000000  ...     34.000000          1.000000\n",
              "50%        0.000000     24.000000  ...     34.000000          1.000000\n",
              "75%        0.000000     36.000000  ...     34.000000          1.000000\n",
              "max        7.000000     52.000000  ...     50.000000          1.000000\n",
              "\n",
              "[8 rows x 16 columns]"
            ]
          },
          "metadata": {
            "tags": []
          },
          "execution_count": 5
        }
      ]
    },
    {
      "cell_type": "code",
      "metadata": {
        "id": "d8rITwKWEtvt",
        "colab_type": "code",
        "colab": {
          "base_uri": "https://localhost:8080/",
          "height": 33
        },
        "outputId": "d4682495-41b7-4861-a135-00ee2584948f"
      },
      "source": [
        "df_Train.shape"
      ],
      "execution_count": 6,
      "outputs": [
        {
          "output_type": "execute_result",
          "data": {
            "text/plain": [
              "(23856, 18)"
            ]
          },
          "metadata": {
            "tags": []
          },
          "execution_count": 6
        }
      ]
    },
    {
      "cell_type": "code",
      "metadata": {
        "id": "Oh1GK5uIE1rZ",
        "colab_type": "code",
        "colab": {
          "base_uri": "https://localhost:8080/",
          "height": 33
        },
        "outputId": "964de24c-2071-4c98-ff4e-4157636c1cbe"
      },
      "source": [
        "df_Test.shape"
      ],
      "execution_count": 7,
      "outputs": [
        {
          "output_type": "execute_result",
          "data": {
            "text/plain": [
              "(15903, 17)"
            ]
          },
          "metadata": {
            "tags": []
          },
          "execution_count": 7
        }
      ]
    },
    {
      "cell_type": "code",
      "metadata": {
        "id": "t_tIufCQE2yL",
        "colab_type": "code",
        "colab": {
          "base_uri": "https://localhost:8080/",
          "height": 333
        },
        "outputId": "9e48de51-8fe7-4401-b379-453ac1539d31"
      },
      "source": [
        "df_Train.isnull().sum()"
      ],
      "execution_count": 8,
      "outputs": [
        {
          "output_type": "execute_result",
          "data": {
            "text/plain": [
              "INCIDENT_ID           0\n",
              "DATE                  0\n",
              "X_1                   0\n",
              "X_2                   0\n",
              "X_3                   0\n",
              "X_4                   0\n",
              "X_5                   0\n",
              "X_6                   0\n",
              "X_7                   0\n",
              "X_8                   0\n",
              "X_9                   0\n",
              "X_10                  0\n",
              "X_11                  0\n",
              "X_12                182\n",
              "X_13                  0\n",
              "X_14                  0\n",
              "X_15                  0\n",
              "MULTIPLE_OFFENSE      0\n",
              "dtype: int64"
            ]
          },
          "metadata": {
            "tags": []
          },
          "execution_count": 8
        }
      ]
    },
    {
      "cell_type": "code",
      "metadata": {
        "id": "heTBygegE4_h",
        "colab_type": "code",
        "colab": {
          "base_uri": "https://localhost:8080/",
          "height": 317
        },
        "outputId": "020c25c0-98cc-4ab3-8ed0-54d5a0b6f91f"
      },
      "source": [
        "df_Test.isnull().sum()"
      ],
      "execution_count": 9,
      "outputs": [
        {
          "output_type": "execute_result",
          "data": {
            "text/plain": [
              "INCIDENT_ID      0\n",
              "DATE             0\n",
              "X_1              0\n",
              "X_2              0\n",
              "X_3              0\n",
              "X_4              0\n",
              "X_5              0\n",
              "X_6              0\n",
              "X_7              0\n",
              "X_8              0\n",
              "X_9              0\n",
              "X_10             0\n",
              "X_11             0\n",
              "X_12           127\n",
              "X_13             0\n",
              "X_14             0\n",
              "X_15             0\n",
              "dtype: int64"
            ]
          },
          "metadata": {
            "tags": []
          },
          "execution_count": 9
        }
      ]
    },
    {
      "cell_type": "code",
      "metadata": {
        "id": "aIaC2e_-FN3S",
        "colab_type": "code",
        "colab": {
          "base_uri": "https://localhost:8080/",
          "height": 83
        },
        "outputId": "c2b890e2-666f-4766-9015-67ef82d40a2d"
      },
      "source": [
        "df_Train.columns"
      ],
      "execution_count": 10,
      "outputs": [
        {
          "output_type": "execute_result",
          "data": {
            "text/plain": [
              "Index(['INCIDENT_ID', 'DATE', 'X_1', 'X_2', 'X_3', 'X_4', 'X_5', 'X_6', 'X_7',\n",
              "       'X_8', 'X_9', 'X_10', 'X_11', 'X_12', 'X_13', 'X_14', 'X_15',\n",
              "       'MULTIPLE_OFFENSE'],\n",
              "      dtype='object')"
            ]
          },
          "metadata": {
            "tags": []
          },
          "execution_count": 10
        }
      ]
    },
    {
      "cell_type": "code",
      "metadata": {
        "id": "YGjgFOrTE6_G",
        "colab_type": "code",
        "colab": {
          "base_uri": "https://localhost:8080/",
          "height": 67
        },
        "outputId": "c8d0dc1c-1992-4987-b0d0-d47b232f03d2"
      },
      "source": [
        "df_Train['MULTIPLE_OFFENSE'].value_counts()"
      ],
      "execution_count": 11,
      "outputs": [
        {
          "output_type": "execute_result",
          "data": {
            "text/plain": [
              "1    22788\n",
              "0     1068\n",
              "Name: MULTIPLE_OFFENSE, dtype: int64"
            ]
          },
          "metadata": {
            "tags": []
          },
          "execution_count": 11
        }
      ]
    },
    {
      "cell_type": "markdown",
      "metadata": {
        "id": "wDQazSwFFqW7",
        "colab_type": "text"
      },
      "source": [
        "## Feature Engineering"
      ]
    },
    {
      "cell_type": "markdown",
      "metadata": {
        "id": "Okp20fLfHMT2",
        "colab_type": "text"
      },
      "source": [
        "### Remove Duplicate Rows"
      ]
    },
    {
      "cell_type": "code",
      "metadata": {
        "id": "-4sW7BNYHRmN",
        "colab_type": "code",
        "colab": {
          "base_uri": "https://localhost:8080/",
          "height": 33
        },
        "outputId": "c12b933e-26b7-43a0-f28e-c7de35b3afe6"
      },
      "source": [
        "df_Train.shape"
      ],
      "execution_count": 15,
      "outputs": [
        {
          "output_type": "execute_result",
          "data": {
            "text/plain": [
              "(23856, 18)"
            ]
          },
          "metadata": {
            "tags": []
          },
          "execution_count": 15
        }
      ]
    },
    {
      "cell_type": "code",
      "metadata": {
        "id": "csC66RvjHUka",
        "colab_type": "code",
        "colab": {}
      },
      "source": [
        "df_Train = df_Train.drop(['INCIDENT_ID', 'DATE'], axis=1)"
      ],
      "execution_count": 0,
      "outputs": []
    },
    {
      "cell_type": "code",
      "metadata": {
        "id": "3snewdpjH78e",
        "colab_type": "code",
        "colab": {
          "base_uri": "https://localhost:8080/",
          "height": 197
        },
        "outputId": "f84db422-ccc9-4f1c-dcba-1c5809ebc598"
      },
      "source": [
        "df_Train.head()"
      ],
      "execution_count": 17,
      "outputs": [
        {
          "output_type": "execute_result",
          "data": {
            "text/html": [
              "<div>\n",
              "<style scoped>\n",
              "    .dataframe tbody tr th:only-of-type {\n",
              "        vertical-align: middle;\n",
              "    }\n",
              "\n",
              "    .dataframe tbody tr th {\n",
              "        vertical-align: top;\n",
              "    }\n",
              "\n",
              "    .dataframe thead th {\n",
              "        text-align: right;\n",
              "    }\n",
              "</style>\n",
              "<table border=\"1\" class=\"dataframe\">\n",
              "  <thead>\n",
              "    <tr style=\"text-align: right;\">\n",
              "      <th></th>\n",
              "      <th>X_1</th>\n",
              "      <th>X_2</th>\n",
              "      <th>X_3</th>\n",
              "      <th>X_4</th>\n",
              "      <th>X_5</th>\n",
              "      <th>X_6</th>\n",
              "      <th>X_7</th>\n",
              "      <th>X_8</th>\n",
              "      <th>X_9</th>\n",
              "      <th>X_10</th>\n",
              "      <th>X_11</th>\n",
              "      <th>X_12</th>\n",
              "      <th>X_13</th>\n",
              "      <th>X_14</th>\n",
              "      <th>X_15</th>\n",
              "      <th>MULTIPLE_OFFENSE</th>\n",
              "    </tr>\n",
              "  </thead>\n",
              "  <tbody>\n",
              "    <tr>\n",
              "      <th>0</th>\n",
              "      <td>0</td>\n",
              "      <td>36</td>\n",
              "      <td>34</td>\n",
              "      <td>2</td>\n",
              "      <td>1</td>\n",
              "      <td>5</td>\n",
              "      <td>6</td>\n",
              "      <td>1</td>\n",
              "      <td>6</td>\n",
              "      <td>1</td>\n",
              "      <td>174</td>\n",
              "      <td>1.0</td>\n",
              "      <td>92</td>\n",
              "      <td>29</td>\n",
              "      <td>36</td>\n",
              "      <td>0</td>\n",
              "    </tr>\n",
              "    <tr>\n",
              "      <th>1</th>\n",
              "      <td>1</td>\n",
              "      <td>37</td>\n",
              "      <td>37</td>\n",
              "      <td>0</td>\n",
              "      <td>0</td>\n",
              "      <td>11</td>\n",
              "      <td>17</td>\n",
              "      <td>1</td>\n",
              "      <td>6</td>\n",
              "      <td>1</td>\n",
              "      <td>236</td>\n",
              "      <td>1.0</td>\n",
              "      <td>103</td>\n",
              "      <td>142</td>\n",
              "      <td>34</td>\n",
              "      <td>1</td>\n",
              "    </tr>\n",
              "    <tr>\n",
              "      <th>2</th>\n",
              "      <td>0</td>\n",
              "      <td>3</td>\n",
              "      <td>2</td>\n",
              "      <td>3</td>\n",
              "      <td>5</td>\n",
              "      <td>1</td>\n",
              "      <td>0</td>\n",
              "      <td>2</td>\n",
              "      <td>3</td>\n",
              "      <td>1</td>\n",
              "      <td>174</td>\n",
              "      <td>1.0</td>\n",
              "      <td>110</td>\n",
              "      <td>93</td>\n",
              "      <td>34</td>\n",
              "      <td>1</td>\n",
              "    </tr>\n",
              "    <tr>\n",
              "      <th>3</th>\n",
              "      <td>0</td>\n",
              "      <td>33</td>\n",
              "      <td>32</td>\n",
              "      <td>2</td>\n",
              "      <td>1</td>\n",
              "      <td>7</td>\n",
              "      <td>1</td>\n",
              "      <td>1</td>\n",
              "      <td>6</td>\n",
              "      <td>1</td>\n",
              "      <td>249</td>\n",
              "      <td>1.0</td>\n",
              "      <td>72</td>\n",
              "      <td>29</td>\n",
              "      <td>34</td>\n",
              "      <td>1</td>\n",
              "    </tr>\n",
              "    <tr>\n",
              "      <th>4</th>\n",
              "      <td>0</td>\n",
              "      <td>33</td>\n",
              "      <td>32</td>\n",
              "      <td>2</td>\n",
              "      <td>1</td>\n",
              "      <td>8</td>\n",
              "      <td>3</td>\n",
              "      <td>0</td>\n",
              "      <td>5</td>\n",
              "      <td>1</td>\n",
              "      <td>174</td>\n",
              "      <td>0.0</td>\n",
              "      <td>112</td>\n",
              "      <td>29</td>\n",
              "      <td>43</td>\n",
              "      <td>1</td>\n",
              "    </tr>\n",
              "  </tbody>\n",
              "</table>\n",
              "</div>"
            ],
            "text/plain": [
              "   X_1  X_2  X_3  X_4  X_5  X_6  ...  X_11  X_12  X_13  X_14  X_15  MULTIPLE_OFFENSE\n",
              "0    0   36   34    2    1    5  ...   174   1.0    92    29    36                 0\n",
              "1    1   37   37    0    0   11  ...   236   1.0   103   142    34                 1\n",
              "2    0    3    2    3    5    1  ...   174   1.0   110    93    34                 1\n",
              "3    0   33   32    2    1    7  ...   249   1.0    72    29    34                 1\n",
              "4    0   33   32    2    1    8  ...   174   0.0   112    29    43                 1\n",
              "\n",
              "[5 rows x 16 columns]"
            ]
          },
          "metadata": {
            "tags": []
          },
          "execution_count": 17
        }
      ]
    },
    {
      "cell_type": "code",
      "metadata": {
        "id": "JgzMM3cnHwBp",
        "colab_type": "code",
        "colab": {}
      },
      "source": [
        "df_Train.drop_duplicates(keep='first', inplace=True)"
      ],
      "execution_count": 0,
      "outputs": []
    },
    {
      "cell_type": "code",
      "metadata": {
        "id": "CfaCRcGdIBn6",
        "colab_type": "code",
        "colab": {
          "base_uri": "https://localhost:8080/",
          "height": 33
        },
        "outputId": "46ab74a3-85f4-422b-91bc-a4c475d1ce24"
      },
      "source": [
        "df_Train.shape"
      ],
      "execution_count": 19,
      "outputs": [
        {
          "output_type": "execute_result",
          "data": {
            "text/plain": [
              "(18814, 16)"
            ]
          },
          "metadata": {
            "tags": []
          },
          "execution_count": 19
        }
      ]
    },
    {
      "cell_type": "code",
      "metadata": {
        "id": "eMtS9MUaIKMq",
        "colab_type": "code",
        "colab": {
          "base_uri": "https://localhost:8080/",
          "height": 67
        },
        "outputId": "af731909-fbeb-4877-e1c3-1cc3d9eae0a6"
      },
      "source": [
        "df_Train['MULTIPLE_OFFENSE'].value_counts()"
      ],
      "execution_count": 20,
      "outputs": [
        {
          "output_type": "execute_result",
          "data": {
            "text/plain": [
              "1    17836\n",
              "0      978\n",
              "Name: MULTIPLE_OFFENSE, dtype: int64"
            ]
          },
          "metadata": {
            "tags": []
          },
          "execution_count": 20
        }
      ]
    },
    {
      "cell_type": "code",
      "metadata": {
        "id": "Yl4IDa88IPX_",
        "colab_type": "code",
        "colab": {
          "base_uri": "https://localhost:8080/",
          "height": 300
        },
        "outputId": "a7078fad-12b9-43da-96bd-1218d8eb8418"
      },
      "source": [
        "df_Train.isnull().sum()"
      ],
      "execution_count": 21,
      "outputs": [
        {
          "output_type": "execute_result",
          "data": {
            "text/plain": [
              "X_1                   0\n",
              "X_2                   0\n",
              "X_3                   0\n",
              "X_4                   0\n",
              "X_5                   0\n",
              "X_6                   0\n",
              "X_7                   0\n",
              "X_8                   0\n",
              "X_9                   0\n",
              "X_10                  0\n",
              "X_11                  0\n",
              "X_12                141\n",
              "X_13                  0\n",
              "X_14                  0\n",
              "X_15                  0\n",
              "MULTIPLE_OFFENSE      0\n",
              "dtype: int64"
            ]
          },
          "metadata": {
            "tags": []
          },
          "execution_count": 21
        }
      ]
    },
    {
      "cell_type": "markdown",
      "metadata": {
        "id": "p-YTHLU8F_r3",
        "colab_type": "text"
      },
      "source": [
        "### Fill Missing Values"
      ]
    },
    {
      "cell_type": "code",
      "metadata": {
        "id": "VeVE28PzFTPK",
        "colab_type": "code",
        "colab": {}
      },
      "source": [
        "df_Train['X_12'] = df_Train['X_12'].ffill()\n",
        "df_Test['X_12'] = df_Test['X_12'].ffill()\n",
        "df_Train['X_12'] = df_Train['X_12'].bfill()\n",
        "df_Test['X_12'] = df_Test['X_12'].bfill()"
      ],
      "execution_count": 0,
      "outputs": []
    },
    {
      "cell_type": "code",
      "metadata": {
        "id": "cj8uRQ5ILoTE",
        "colab_type": "code",
        "colab": {}
      },
      "source": [
        "#Convert to integer\n",
        "df_Train['X_12'] = df_Train['X_12'].astype(int)\n",
        "df_Test['X_12'] = df_Test['X_12'].astype(int)"
      ],
      "execution_count": 0,
      "outputs": []
    },
    {
      "cell_type": "markdown",
      "metadata": {
        "id": "YpzZzcn8Z8nl",
        "colab_type": "text"
      },
      "source": [
        "## Feature Selection"
      ]
    },
    {
      "cell_type": "markdown",
      "metadata": {
        "id": "ZJnMPA6laKEZ",
        "colab_type": "text"
      },
      "source": [
        "### Correlation of Data"
      ]
    },
    {
      "cell_type": "code",
      "metadata": {
        "id": "yTqpBMxvaBmN",
        "colab_type": "code",
        "colab": {
          "base_uri": "https://localhost:8080/",
          "height": 70
        },
        "outputId": "2846e7cc-7ac9-4b13-8019-f036ec9271f3"
      },
      "source": [
        "import matplotlib.pyplot as plt\n",
        "import seaborn as sns\n",
        "%matplotlib inline"
      ],
      "execution_count": 55,
      "outputs": [
        {
          "output_type": "stream",
          "text": [
            "/usr/local/lib/python3.6/dist-packages/statsmodels/tools/_testing.py:19: FutureWarning: pandas.util.testing is deprecated. Use the functions in the public API at pandas.testing instead.\n",
            "  import pandas.util.testing as tm\n"
          ],
          "name": "stderr"
        }
      ]
    },
    {
      "cell_type": "code",
      "metadata": {
        "id": "k2ihX4H2aDke",
        "colab_type": "code",
        "colab": {
          "base_uri": "https://localhost:8080/",
          "height": 1000
        },
        "outputId": "a6365dc4-6b06-4203-f8d7-8f866c1e4f99"
      },
      "source": [
        "str_list = [] # empty list to contain columns with strings (words)\n",
        "for colname, colvalue in df_Train.iteritems():\n",
        "    if type(colvalue[1]) == str:\n",
        "         str_list.append(colname)\n",
        "# Get to the numeric columns by inversion            \n",
        "num_list = df_Train.columns.difference(str_list) \n",
        "# Create Dataframe containing only numerical features\n",
        "train_num = df_Train[num_list]\n",
        "f, ax = plt.subplots(figsize=(25, 25))\n",
        "plt.title('Pearson Correlation of features')\n",
        "# Draw the heatmap using seaborn\n",
        "sns.heatmap(train_num.astype(float).corr(),linewidths=0.25,vmax=1.0, square=True, cmap=\"cubehelix\", linecolor='k', annot=True)"
      ],
      "execution_count": 56,
      "outputs": [
        {
          "output_type": "execute_result",
          "data": {
            "text/plain": [
              "<matplotlib.axes._subplots.AxesSubplot at 0x7ff2031516d8>"
            ]
          },
          "metadata": {
            "tags": []
          },
          "execution_count": 56
        },
        {
          "output_type": "display_data",
          "data": {
            "image/png": "[encoded data removed]",
            "text/plain": [
              "<Figure size 1800x1800 with 2 Axes>"
            ]
          },
          "metadata": {
            "tags": [],
            "needs_background": "light"
          }
        }
      ]
    },
    {
      "cell_type": "code",
      "metadata": {
        "id": "eNykhzzWaFkX",
        "colab_type": "code",
        "colab": {
          "base_uri": "https://localhost:8080/",
          "height": 547
        },
        "outputId": "218e2b0d-fc57-438a-b8c0-b216114af2cf"
      },
      "source": [
        "df_Train.corr()"
      ],
      "execution_count": 57,
      "outputs": [
        {
          "output_type": "execute_result",
          "data": {
            "text/html": [
              "<div>\n",
              "<style scoped>\n",
              "    .dataframe tbody tr th:only-of-type {\n",
              "        vertical-align: middle;\n",
              "    }\n",
              "\n",
              "    .dataframe tbody tr th {\n",
              "        vertical-align: top;\n",
              "    }\n",
              "\n",
              "    .dataframe thead th {\n",
              "        text-align: right;\n",
              "    }\n",
              "</style>\n",
              "<table border=\"1\" class=\"dataframe\">\n",
              "  <thead>\n",
              "    <tr style=\"text-align: right;\">\n",
              "      <th></th>\n",
              "      <th>X_1</th>\n",
              "      <th>X_2</th>\n",
              "      <th>X_3</th>\n",
              "      <th>X_4</th>\n",
              "      <th>X_5</th>\n",
              "      <th>X_6</th>\n",
              "      <th>X_7</th>\n",
              "      <th>X_8</th>\n",
              "      <th>X_9</th>\n",
              "      <th>X_10</th>\n",
              "      <th>X_11</th>\n",
              "      <th>X_12</th>\n",
              "      <th>X_13</th>\n",
              "      <th>X_14</th>\n",
              "      <th>X_15</th>\n",
              "      <th>MULTIPLE_OFFENSE</th>\n",
              "    </tr>\n",
              "  </thead>\n",
              "  <tbody>\n",
              "    <tr>\n",
              "      <th>X_1</th>\n",
              "      <td>1.000000</td>\n",
              "      <td>0.020915</td>\n",
              "      <td>0.020678</td>\n",
              "      <td>-0.011969</td>\n",
              "      <td>-0.036969</td>\n",
              "      <td>0.415254</td>\n",
              "      <td>0.419761</td>\n",
              "      <td>-0.063110</td>\n",
              "      <td>0.024894</td>\n",
              "      <td>0.001782</td>\n",
              "      <td>0.002431</td>\n",
              "      <td>-0.028958</td>\n",
              "      <td>0.113617</td>\n",
              "      <td>-0.009718</td>\n",
              "      <td>0.002470</td>\n",
              "      <td>0.014948</td>\n",
              "    </tr>\n",
              "    <tr>\n",
              "      <th>X_2</th>\n",
              "      <td>0.020915</td>\n",
              "      <td>1.000000</td>\n",
              "      <td>0.997183</td>\n",
              "      <td>-0.034701</td>\n",
              "      <td>-0.273796</td>\n",
              "      <td>0.106539</td>\n",
              "      <td>0.063355</td>\n",
              "      <td>-0.030287</td>\n",
              "      <td>-0.013057</td>\n",
              "      <td>-0.017373</td>\n",
              "      <td>0.030416</td>\n",
              "      <td>-0.053886</td>\n",
              "      <td>0.036968</td>\n",
              "      <td>0.001156</td>\n",
              "      <td>-0.012961</td>\n",
              "      <td>-0.018676</td>\n",
              "    </tr>\n",
              "    <tr>\n",
              "      <th>X_3</th>\n",
              "      <td>0.020678</td>\n",
              "      <td>0.997183</td>\n",
              "      <td>1.000000</td>\n",
              "      <td>-0.010006</td>\n",
              "      <td>-0.276232</td>\n",
              "      <td>0.110816</td>\n",
              "      <td>0.073723</td>\n",
              "      <td>-0.028750</td>\n",
              "      <td>-0.014570</td>\n",
              "      <td>-0.016438</td>\n",
              "      <td>0.029520</td>\n",
              "      <td>-0.053619</td>\n",
              "      <td>0.035184</td>\n",
              "      <td>-0.000493</td>\n",
              "      <td>-0.016719</td>\n",
              "      <td>-0.018770</td>\n",
              "    </tr>\n",
              "    <tr>\n",
              "      <th>X_4</th>\n",
              "      <td>-0.011969</td>\n",
              "      <td>-0.034701</td>\n",
              "      <td>-0.010006</td>\n",
              "      <td>1.000000</td>\n",
              "      <td>0.390439</td>\n",
              "      <td>0.018748</td>\n",
              "      <td>0.063802</td>\n",
              "      <td>0.054493</td>\n",
              "      <td>-0.006397</td>\n",
              "      <td>0.030263</td>\n",
              "      <td>-0.033334</td>\n",
              "      <td>0.038373</td>\n",
              "      <td>-0.038341</td>\n",
              "      <td>-0.030230</td>\n",
              "      <td>0.002711</td>\n",
              "      <td>-0.004253</td>\n",
              "    </tr>\n",
              "    <tr>\n",
              "      <th>X_5</th>\n",
              "      <td>-0.036969</td>\n",
              "      <td>-0.273796</td>\n",
              "      <td>-0.276232</td>\n",
              "      <td>0.390439</td>\n",
              "      <td>1.000000</td>\n",
              "      <td>-0.055987</td>\n",
              "      <td>0.007925</td>\n",
              "      <td>0.034433</td>\n",
              "      <td>0.046320</td>\n",
              "      <td>0.044109</td>\n",
              "      <td>-0.040316</td>\n",
              "      <td>0.063665</td>\n",
              "      <td>-0.061932</td>\n",
              "      <td>0.004751</td>\n",
              "      <td>-0.005812</td>\n",
              "      <td>-0.010082</td>\n",
              "    </tr>\n",
              "    <tr>\n",
              "      <th>X_6</th>\n",
              "      <td>0.415254</td>\n",
              "      <td>0.106539</td>\n",
              "      <td>0.110816</td>\n",
              "      <td>0.018748</td>\n",
              "      <td>-0.055987</td>\n",
              "      <td>1.000000</td>\n",
              "      <td>0.673273</td>\n",
              "      <td>-0.070119</td>\n",
              "      <td>0.089650</td>\n",
              "      <td>0.017857</td>\n",
              "      <td>0.001035</td>\n",
              "      <td>-0.022657</td>\n",
              "      <td>0.049451</td>\n",
              "      <td>-0.010615</td>\n",
              "      <td>-0.005076</td>\n",
              "      <td>-0.015254</td>\n",
              "    </tr>\n",
              "    <tr>\n",
              "      <th>X_7</th>\n",
              "      <td>0.419761</td>\n",
              "      <td>0.063355</td>\n",
              "      <td>0.073723</td>\n",
              "      <td>0.063802</td>\n",
              "      <td>0.007925</td>\n",
              "      <td>0.673273</td>\n",
              "      <td>1.000000</td>\n",
              "      <td>-0.030933</td>\n",
              "      <td>0.021767</td>\n",
              "      <td>0.014279</td>\n",
              "      <td>0.003719</td>\n",
              "      <td>-0.005375</td>\n",
              "      <td>0.024217</td>\n",
              "      <td>0.003617</td>\n",
              "      <td>0.017528</td>\n",
              "      <td>-0.012324</td>\n",
              "    </tr>\n",
              "    <tr>\n",
              "      <th>X_8</th>\n",
              "      <td>-0.063110</td>\n",
              "      <td>-0.030287</td>\n",
              "      <td>-0.028750</td>\n",
              "      <td>0.054493</td>\n",
              "      <td>0.034433</td>\n",
              "      <td>-0.070119</td>\n",
              "      <td>-0.030933</td>\n",
              "      <td>1.000000</td>\n",
              "      <td>-0.093292</td>\n",
              "      <td>0.215793</td>\n",
              "      <td>0.000934</td>\n",
              "      <td>0.255208</td>\n",
              "      <td>-0.023318</td>\n",
              "      <td>-0.002788</td>\n",
              "      <td>0.051776</td>\n",
              "      <td>-0.029485</td>\n",
              "    </tr>\n",
              "    <tr>\n",
              "      <th>X_9</th>\n",
              "      <td>0.024894</td>\n",
              "      <td>-0.013057</td>\n",
              "      <td>-0.014570</td>\n",
              "      <td>-0.006397</td>\n",
              "      <td>0.046320</td>\n",
              "      <td>0.089650</td>\n",
              "      <td>0.021767</td>\n",
              "      <td>-0.093292</td>\n",
              "      <td>1.000000</td>\n",
              "      <td>0.020867</td>\n",
              "      <td>-0.011426</td>\n",
              "      <td>0.008988</td>\n",
              "      <td>0.016483</td>\n",
              "      <td>-0.272443</td>\n",
              "      <td>0.001514</td>\n",
              "      <td>-0.007291</td>\n",
              "    </tr>\n",
              "    <tr>\n",
              "      <th>X_10</th>\n",
              "      <td>0.001782</td>\n",
              "      <td>-0.017373</td>\n",
              "      <td>-0.016438</td>\n",
              "      <td>0.030263</td>\n",
              "      <td>0.044109</td>\n",
              "      <td>0.017857</td>\n",
              "      <td>0.014279</td>\n",
              "      <td>0.215793</td>\n",
              "      <td>0.020867</td>\n",
              "      <td>1.000000</td>\n",
              "      <td>-0.046466</td>\n",
              "      <td>0.890416</td>\n",
              "      <td>0.013661</td>\n",
              "      <td>-0.028526</td>\n",
              "      <td>0.008544</td>\n",
              "      <td>-0.242552</td>\n",
              "    </tr>\n",
              "    <tr>\n",
              "      <th>X_11</th>\n",
              "      <td>0.002431</td>\n",
              "      <td>0.030416</td>\n",
              "      <td>0.029520</td>\n",
              "      <td>-0.033334</td>\n",
              "      <td>-0.040316</td>\n",
              "      <td>0.001035</td>\n",
              "      <td>0.003719</td>\n",
              "      <td>0.000934</td>\n",
              "      <td>-0.011426</td>\n",
              "      <td>-0.046466</td>\n",
              "      <td>1.000000</td>\n",
              "      <td>0.012374</td>\n",
              "      <td>0.015269</td>\n",
              "      <td>-0.003553</td>\n",
              "      <td>0.033481</td>\n",
              "      <td>0.110987</td>\n",
              "    </tr>\n",
              "    <tr>\n",
              "      <th>X_12</th>\n",
              "      <td>-0.028958</td>\n",
              "      <td>-0.053886</td>\n",
              "      <td>-0.053619</td>\n",
              "      <td>0.038373</td>\n",
              "      <td>0.063665</td>\n",
              "      <td>-0.022657</td>\n",
              "      <td>-0.005375</td>\n",
              "      <td>0.255208</td>\n",
              "      <td>0.008988</td>\n",
              "      <td>0.890416</td>\n",
              "      <td>0.012374</td>\n",
              "      <td>1.000000</td>\n",
              "      <td>0.040915</td>\n",
              "      <td>-0.044583</td>\n",
              "      <td>0.084755</td>\n",
              "      <td>-0.108749</td>\n",
              "    </tr>\n",
              "    <tr>\n",
              "      <th>X_13</th>\n",
              "      <td>0.113617</td>\n",
              "      <td>0.036968</td>\n",
              "      <td>0.035184</td>\n",
              "      <td>-0.038341</td>\n",
              "      <td>-0.061932</td>\n",
              "      <td>0.049451</td>\n",
              "      <td>0.024217</td>\n",
              "      <td>-0.023318</td>\n",
              "      <td>0.016483</td>\n",
              "      <td>0.013661</td>\n",
              "      <td>0.015269</td>\n",
              "      <td>0.040915</td>\n",
              "      <td>1.000000</td>\n",
              "      <td>-0.042823</td>\n",
              "      <td>0.009719</td>\n",
              "      <td>0.002383</td>\n",
              "    </tr>\n",
              "    <tr>\n",
              "      <th>X_14</th>\n",
              "      <td>-0.009718</td>\n",
              "      <td>0.001156</td>\n",
              "      <td>-0.000493</td>\n",
              "      <td>-0.030230</td>\n",
              "      <td>0.004751</td>\n",
              "      <td>-0.010615</td>\n",
              "      <td>0.003617</td>\n",
              "      <td>-0.002788</td>\n",
              "      <td>-0.272443</td>\n",
              "      <td>-0.028526</td>\n",
              "      <td>-0.003553</td>\n",
              "      <td>-0.044583</td>\n",
              "      <td>-0.042823</td>\n",
              "      <td>1.000000</td>\n",
              "      <td>0.007675</td>\n",
              "      <td>-0.001899</td>\n",
              "    </tr>\n",
              "    <tr>\n",
              "      <th>X_15</th>\n",
              "      <td>0.002470</td>\n",
              "      <td>-0.012961</td>\n",
              "      <td>-0.016719</td>\n",
              "      <td>0.002711</td>\n",
              "      <td>-0.005812</td>\n",
              "      <td>-0.005076</td>\n",
              "      <td>0.017528</td>\n",
              "      <td>0.051776</td>\n",
              "      <td>0.001514</td>\n",
              "      <td>0.008544</td>\n",
              "      <td>0.033481</td>\n",
              "      <td>0.084755</td>\n",
              "      <td>0.009719</td>\n",
              "      <td>0.007675</td>\n",
              "      <td>1.000000</td>\n",
              "      <td>0.040279</td>\n",
              "    </tr>\n",
              "    <tr>\n",
              "      <th>MULTIPLE_OFFENSE</th>\n",
              "      <td>0.014948</td>\n",
              "      <td>-0.018676</td>\n",
              "      <td>-0.018770</td>\n",
              "      <td>-0.004253</td>\n",
              "      <td>-0.010082</td>\n",
              "      <td>-0.015254</td>\n",
              "      <td>-0.012324</td>\n",
              "      <td>-0.029485</td>\n",
              "      <td>-0.007291</td>\n",
              "      <td>-0.242552</td>\n",
              "      <td>0.110987</td>\n",
              "      <td>-0.108749</td>\n",
              "      <td>0.002383</td>\n",
              "      <td>-0.001899</td>\n",
              "      <td>0.040279</td>\n",
              "      <td>1.000000</td>\n",
              "    </tr>\n",
              "  </tbody>\n",
              "</table>\n",
              "</div>"
            ],
            "text/plain": [
              "                       X_1       X_2  ...      X_15  MULTIPLE_OFFENSE\n",
              "X_1               1.000000  0.020915  ...  0.002470          0.014948\n",
              "X_2               0.020915  1.000000  ... -0.012961         -0.018676\n",
              "X_3               0.020678  0.997183  ... -0.016719         -0.018770\n",
              "X_4              -0.011969 -0.034701  ...  0.002711         -0.004253\n",
              "X_5              -0.036969 -0.273796  ... -0.005812         -0.010082\n",
              "X_6               0.415254  0.106539  ... -0.005076         -0.015254\n",
              "X_7               0.419761  0.063355  ...  0.017528         -0.012324\n",
              "X_8              -0.063110 -0.030287  ...  0.051776         -0.029485\n",
              "X_9               0.024894 -0.013057  ...  0.001514         -0.007291\n",
              "X_10              0.001782 -0.017373  ...  0.008544         -0.242552\n",
              "X_11              0.002431  0.030416  ...  0.033481          0.110987\n",
              "X_12             -0.028958 -0.053886  ...  0.084755         -0.108749\n",
              "X_13              0.113617  0.036968  ...  0.009719          0.002383\n",
              "X_14             -0.009718  0.001156  ...  0.007675         -0.001899\n",
              "X_15              0.002470 -0.012961  ...  1.000000          0.040279\n",
              "MULTIPLE_OFFENSE  0.014948 -0.018676  ...  0.040279          1.000000\n",
              "\n",
              "[16 rows x 16 columns]"
            ]
          },
          "metadata": {
            "tags": []
          },
          "execution_count": 57
        }
      ]
    },
    {
      "cell_type": "code",
      "metadata": {
        "id": "O3_V38SnaT9h",
        "colab_type": "code",
        "colab": {
          "base_uri": "https://localhost:8080/",
          "height": 651
        },
        "outputId": "6abb0d9f-fd00-4065-ff15-bfc2497f2a1c"
      },
      "source": [
        "corrmat = df_Train.corr()\n",
        "f, ax = plt.subplots(figsize=(10,10))\n",
        "sns.heatmap(corrmat, square=True, vmax=.8)"
      ],
      "execution_count": 58,
      "outputs": [
        {
          "output_type": "execute_result",
          "data": {
            "text/plain": [
              "<matplotlib.axes._subplots.AxesSubplot at 0x7ff2002decc0>"
            ]
          },
          "metadata": {
            "tags": []
          },
          "execution_count": 58
        },
        {
          "output_type": "display_data",
          "data": {
            "image/png": "[encoded data removed]",
            "text/plain": [
              "<Figure size 720x720 with 2 Axes>"
            ]
          },
          "metadata": {
            "tags": [],
            "needs_background": "light"
          }
        }
      ]
    },
    {
      "cell_type": "markdown",
      "metadata": {
        "id": "13C0ZPuSadqk",
        "colab_type": "text"
      },
      "source": [
        "### Multi Colinearity of the Data"
      ]
    },
    {
      "cell_type": "code",
      "metadata": {
        "id": "wZDxJf_wahRK",
        "colab_type": "code",
        "colab": {}
      },
      "source": [
        "import statsmodels.api as sm\n",
        "from statsmodels.stats.outliers_influence import variance_inflation_factor"
      ],
      "execution_count": 0,
      "outputs": []
    },
    {
      "cell_type": "code",
      "metadata": {
        "id": "guRIif-7akBY",
        "colab_type": "code",
        "colab": {}
      },
      "source": [
        "df_multi = df_Train\n",
        "df_multi = df_multi.drop('MULTIPLE_OFFENSE', axis=1)"
      ],
      "execution_count": 0,
      "outputs": []
    },
    {
      "cell_type": "code",
      "metadata": {
        "id": "_XaWnjC5an_a",
        "colab_type": "code",
        "colab": {}
      },
      "source": [
        "# For each X, calculate VIF and save in dataframe\n",
        "vif = pd.DataFrame()\n",
        "vif[\"VIF Factor\"] = [variance_inflation_factor(df_multi.values, i) for i in range(df_multi.shape[1])]\n",
        "vif[\"features\"] = df_multi.columns"
      ],
      "execution_count": 0,
      "outputs": []
    },
    {
      "cell_type": "code",
      "metadata": {
        "id": "PLLhqPMLaprE",
        "colab_type": "code",
        "colab": {
          "base_uri": "https://localhost:8080/",
          "height": 497
        },
        "outputId": "47aa3e73-df3c-47d6-c92d-1a2739b70924"
      },
      "source": [
        "vif.round(1)"
      ],
      "execution_count": 62,
      "outputs": [
        {
          "output_type": "execute_result",
          "data": {
            "text/html": [
              "<div>\n",
              "<style scoped>\n",
              "    .dataframe tbody tr th:only-of-type {\n",
              "        vertical-align: middle;\n",
              "    }\n",
              "\n",
              "    .dataframe tbody tr th {\n",
              "        vertical-align: top;\n",
              "    }\n",
              "\n",
              "    .dataframe thead th {\n",
              "        text-align: right;\n",
              "    }\n",
              "</style>\n",
              "<table border=\"1\" class=\"dataframe\">\n",
              "  <thead>\n",
              "    <tr style=\"text-align: right;\">\n",
              "      <th></th>\n",
              "      <th>VIF Factor</th>\n",
              "      <th>features</th>\n",
              "    </tr>\n",
              "  </thead>\n",
              "  <tbody>\n",
              "    <tr>\n",
              "      <th>0</th>\n",
              "      <td>1.4</td>\n",
              "      <td>X_1</td>\n",
              "    </tr>\n",
              "    <tr>\n",
              "      <th>1</th>\n",
              "      <td>743.4</td>\n",
              "      <td>X_2</td>\n",
              "    </tr>\n",
              "    <tr>\n",
              "      <th>2</th>\n",
              "      <td>750.3</td>\n",
              "      <td>X_3</td>\n",
              "    </tr>\n",
              "    <tr>\n",
              "      <th>3</th>\n",
              "      <td>4.3</td>\n",
              "      <td>X_4</td>\n",
              "    </tr>\n",
              "    <tr>\n",
              "      <th>4</th>\n",
              "      <td>3.5</td>\n",
              "      <td>X_5</td>\n",
              "    </tr>\n",
              "    <tr>\n",
              "      <th>5</th>\n",
              "      <td>6.0</td>\n",
              "      <td>X_6</td>\n",
              "    </tr>\n",
              "    <tr>\n",
              "      <th>6</th>\n",
              "      <td>5.3</td>\n",
              "      <td>X_7</td>\n",
              "    </tr>\n",
              "    <tr>\n",
              "      <th>7</th>\n",
              "      <td>1.6</td>\n",
              "      <td>X_8</td>\n",
              "    </tr>\n",
              "    <tr>\n",
              "      <th>8</th>\n",
              "      <td>10.1</td>\n",
              "      <td>X_9</td>\n",
              "    </tr>\n",
              "    <tr>\n",
              "      <th>9</th>\n",
              "      <td>10.3</td>\n",
              "      <td>X_10</td>\n",
              "    </tr>\n",
              "    <tr>\n",
              "      <th>10</th>\n",
              "      <td>5.1</td>\n",
              "      <td>X_11</td>\n",
              "    </tr>\n",
              "    <tr>\n",
              "      <th>11</th>\n",
              "      <td>8.5</td>\n",
              "      <td>X_12</td>\n",
              "    </tr>\n",
              "    <tr>\n",
              "      <th>12</th>\n",
              "      <td>8.1</td>\n",
              "      <td>X_13</td>\n",
              "    </tr>\n",
              "    <tr>\n",
              "      <th>13</th>\n",
              "      <td>3.6</td>\n",
              "      <td>X_14</td>\n",
              "    </tr>\n",
              "    <tr>\n",
              "      <th>14</th>\n",
              "      <td>12.3</td>\n",
              "      <td>X_15</td>\n",
              "    </tr>\n",
              "  </tbody>\n",
              "</table>\n",
              "</div>"
            ],
            "text/plain": [
              "    VIF Factor features\n",
              "0          1.4      X_1\n",
              "1        743.4      X_2\n",
              "2        750.3      X_3\n",
              "3          4.3      X_4\n",
              "4          3.5      X_5\n",
              "5          6.0      X_6\n",
              "6          5.3      X_7\n",
              "7          1.6      X_8\n",
              "8         10.1      X_9\n",
              "9         10.3     X_10\n",
              "10         5.1     X_11\n",
              "11         8.5     X_12\n",
              "12         8.1     X_13\n",
              "13         3.6     X_14\n",
              "14        12.3     X_15"
            ]
          },
          "metadata": {
            "tags": []
          },
          "execution_count": 62
        }
      ]
    },
    {
      "cell_type": "markdown",
      "metadata": {
        "id": "LmZVHqQtJuD_",
        "colab_type": "text"
      },
      "source": [
        "# Data Modelling for Prediction"
      ]
    },
    {
      "cell_type": "markdown",
      "metadata": {
        "id": "AolTcsoSJ2Vc",
        "colab_type": "text"
      },
      "source": [
        "## Split the Data to x variable and y variable"
      ]
    },
    {
      "cell_type": "code",
      "metadata": {
        "id": "s9rMbnKAHB03",
        "colab_type": "code",
        "colab": {}
      },
      "source": [
        "x = df_Train\n",
        "x = x.drop(['MULTIPLE_OFFENSE'], axis=1)\n",
        "y = df_Train['MULTIPLE_OFFENSE']\n",
        "x_pred = df_Test\n",
        "x_pred = x_pred.drop(['INCIDENT_ID', 'DATE'], axis=1)"
      ],
      "execution_count": 0,
      "outputs": []
    },
    {
      "cell_type": "markdown",
      "metadata": {
        "id": "qePL5lgMKcmI",
        "colab_type": "text"
      },
      "source": [
        "## Balancing the Data"
      ]
    },
    {
      "cell_type": "code",
      "metadata": {
        "id": "btu0SvxBKaLd",
        "colab_type": "code",
        "colab": {
          "base_uri": "https://localhost:8080/",
          "height": 70
        },
        "outputId": "3e1080e4-1839-4f1f-9e85-12d59f4f890f"
      },
      "source": [
        "from imblearn.over_sampling import RandomOverSampler\n",
        "sm = RandomOverSampler(random_state=294,sampling_strategy='not majority')\n",
        "x_sm, y_sm = sm.fit_resample(x,y)\n",
        "x_sm = pd.DataFrame(x_sm)\n",
        "x_sm.columns = x.columns"
      ],
      "execution_count": 50,
      "outputs": [
        {
          "output_type": "stream",
          "text": [
            "/usr/local/lib/python3.6/dist-packages/sklearn/utils/deprecation.py:87: FutureWarning: Function safe_indexing is deprecated; safe_indexing is deprecated in version 0.22 and will be removed in version 0.24.\n",
            "  warnings.warn(msg, category=FutureWarning)\n"
          ],
          "name": "stderr"
        }
      ]
    },
    {
      "cell_type": "markdown",
      "metadata": {
        "id": "2UI5-JubKwrC",
        "colab_type": "text"
      },
      "source": [
        "## Random Forest Model Classification"
      ]
    },
    {
      "cell_type": "code",
      "metadata": {
        "id": "89NmuF3WKnJq",
        "colab_type": "code",
        "colab": {}
      },
      "source": [
        "from sklearn.ensemble import RandomForestClassifier\n",
        "rf = RandomForestClassifier(n_estimators=1000, criterion='entropy', n_jobs=-1, random_state=294)"
      ],
      "execution_count": 0,
      "outputs": []
    },
    {
      "cell_type": "code",
      "metadata": {
        "id": "xW-1oChsK8V8",
        "colab_type": "code",
        "colab": {
          "base_uri": "https://localhost:8080/",
          "height": 150
        },
        "outputId": "7bcb4190-b4a7-42c3-901b-ad9f69fbf22f"
      },
      "source": [
        "rf.fit(x_sm,np.ravel(y_sm))"
      ],
      "execution_count": 52,
      "outputs": [
        {
          "output_type": "execute_result",
          "data": {
            "text/plain": [
              "RandomForestClassifier(bootstrap=True, ccp_alpha=0.0, class_weight=None,\n",
              "                       criterion='entropy', max_depth=None, max_features='auto',\n",
              "                       max_leaf_nodes=None, max_samples=None,\n",
              "                       min_impurity_decrease=0.0, min_impurity_split=None,\n",
              "                       min_samples_leaf=1, min_samples_split=2,\n",
              "                       min_weight_fraction_leaf=0.0, n_estimators=1000,\n",
              "                       n_jobs=-1, oob_score=False, random_state=294, verbose=0,\n",
              "                       warm_start=False)"
            ]
          },
          "metadata": {
            "tags": []
          },
          "execution_count": 52
        }
      ]
    },
    {
      "cell_type": "code",
      "metadata": {
        "id": "s-lj28H1LCtg",
        "colab_type": "code",
        "colab": {}
      },
      "source": [
        "y_pred = rf.predict(x_pred)"
      ],
      "execution_count": 0,
      "outputs": []
    },
    {
      "cell_type": "code",
      "metadata": {
        "id": "z_efMkTILF4G",
        "colab_type": "code",
        "colab": {}
      },
      "source": [
        "submission_df = pd.DataFrame({'INCIDENT_ID':df_Test['INCIDENT_ID'], 'MULTIPLE_OFFENSE':y_pred})\n",
        "submission_df.to_csv('Sample Submission RF v1.csv', index=False)"
      ],
      "execution_count": 0,
      "outputs": []
    },
    {
      "cell_type": "markdown",
      "metadata": {
        "id": "-RqNux8qa9OI",
        "colab_type": "text"
      },
      "source": [
        "## CatBoost"
      ]
    },
    {
      "cell_type": "code",
      "metadata": {
        "id": "EswDlJaGTP6-",
        "colab_type": "code",
        "colab": {
          "base_uri": "https://localhost:8080/",
          "height": 337
        },
        "outputId": "acdca082-d233-43ca-dba2-ea40fd0b4723"
      },
      "source": [
        "pip install catboost"
      ],
      "execution_count": 63,
      "outputs": [
        {
          "output_type": "stream",
          "text": [
            "Collecting catboost\n",
            "\u001b[?25l  Downloading https://files.pythonhosted.org/packages/b2/aa/e61819d04ef2bbee778bf4b3a748db1f3ad23512377e43ecfdc3211437a0/catboost-0.23.2-cp36-none-manylinux1_x86_64.whl (64.8MB)\n",
            "\u001b[K     |████████████████████████████████| 64.8MB 64kB/s \n",
            "\u001b[?25hRequirement already satisfied: scipy in /usr/local/lib/python3.6/dist-packages (from catboost) (1.4.1)\n",
            "Requirement already satisfied: plotly in /usr/local/lib/python3.6/dist-packages (from catboost) (4.4.1)\n",
            "Requirement already satisfied: graphviz in /usr/local/lib/python3.6/dist-packages (from catboost) (0.10.1)\n",
            "Requirement already satisfied: six in /usr/local/lib/python3.6/dist-packages (from catboost) (1.12.0)\n",
            "Requirement already satisfied: matplotlib in /usr/local/lib/python3.6/dist-packages (from catboost) (3.2.1)\n",
            "Requirement already satisfied: pandas>=0.24.0 in /usr/local/lib/python3.6/dist-packages (from catboost) (1.0.4)\n",
            "Requirement already satisfied: numpy>=1.16.0 in /usr/local/lib/python3.6/dist-packages (from catboost) (1.18.4)\n",
            "Requirement already satisfied: retrying>=1.3.3 in /usr/local/lib/python3.6/dist-packages (from plotly->catboost) (1.3.3)\n",
            "Requirement already satisfied: python-dateutil>=2.1 in /usr/local/lib/python3.6/dist-packages (from matplotlib->catboost) (2.8.1)\n",
            "Requirement already satisfied: pyparsing!=2.0.4,!=2.1.2,!=2.1.6,>=2.0.1 in /usr/local/lib/python3.6/dist-packages (from matplotlib->catboost) (2.4.7)\n",
            "Requirement already satisfied: kiwisolver>=1.0.1 in /usr/local/lib/python3.6/dist-packages (from matplotlib->catboost) (1.2.0)\n",
            "Requirement already satisfied: cycler>=0.10 in /usr/local/lib/python3.6/dist-packages (from matplotlib->catboost) (0.10.0)\n",
            "Requirement already satisfied: pytz>=2017.2 in /usr/local/lib/python3.6/dist-packages (from pandas>=0.24.0->catboost) (2018.9)\n",
            "Installing collected packages: catboost\n",
            "Successfully installed catboost-0.23.2\n"
          ],
          "name": "stdout"
        }
      ]
    },
    {
      "cell_type": "code",
      "metadata": {
        "id": "g7162dGRbB_r",
        "colab_type": "code",
        "colab": {}
      },
      "source": [
        "from catboost import CatBoostClassifier\n",
        "cb_cl = CatBoostClassifier(learning_rate=0.15, n_estimators=500, subsample=0.70, max_depth=5, scale_pos_weight=2.5)"
      ],
      "execution_count": 0,
      "outputs": []
    },
    {
      "cell_type": "code",
      "metadata": {
        "id": "m_qFjxpObEDF",
        "colab_type": "code",
        "colab": {
          "base_uri": "https://localhost:8080/",
          "height": 1000
        },
        "outputId": "0938d2f4-00bb-4176-b1e7-047ff1c8f10a"
      },
      "source": [
        "cb_cl.fit(x_sm,np.ravel(y_sm))"
      ],
      "execution_count": 65,
      "outputs": [
        {
          "output_type": "stream",
          "text": [
            "0:\tlearn: 0.4490265\ttotal: 66.4ms\tremaining: 33.1s\n",
            "1:\tlearn: 0.3073741\ttotal: 83.3ms\tremaining: 20.8s\n",
            "2:\tlearn: 0.2393800\ttotal: 100ms\tremaining: 16.6s\n",
            "3:\tlearn: 0.1867440\ttotal: 117ms\tremaining: 14.5s\n",
            "4:\tlearn: 0.1463068\ttotal: 133ms\tremaining: 13.2s\n",
            "5:\tlearn: 0.1242704\ttotal: 149ms\tremaining: 12.3s\n",
            "6:\tlearn: 0.1104817\ttotal: 166ms\tremaining: 11.7s\n",
            "7:\tlearn: 0.0996248\ttotal: 183ms\tremaining: 11.3s\n",
            "8:\tlearn: 0.0888554\ttotal: 199ms\tremaining: 10.9s\n",
            "9:\tlearn: 0.0778186\ttotal: 215ms\tremaining: 10.6s\n",
            "10:\tlearn: 0.0726635\ttotal: 231ms\tremaining: 10.3s\n",
            "11:\tlearn: 0.0680138\ttotal: 246ms\tremaining: 10s\n",
            "12:\tlearn: 0.0630556\ttotal: 273ms\tremaining: 10.2s\n",
            "13:\tlearn: 0.0581046\ttotal: 289ms\tremaining: 10s\n",
            "14:\tlearn: 0.0562968\ttotal: 305ms\tremaining: 9.88s\n",
            "15:\tlearn: 0.0523811\ttotal: 322ms\tremaining: 9.74s\n",
            "16:\tlearn: 0.0486876\ttotal: 338ms\tremaining: 9.6s\n",
            "17:\tlearn: 0.0455036\ttotal: 354ms\tremaining: 9.48s\n",
            "18:\tlearn: 0.0439882\ttotal: 370ms\tremaining: 9.36s\n",
            "19:\tlearn: 0.0415897\ttotal: 386ms\tremaining: 9.26s\n",
            "20:\tlearn: 0.0410000\ttotal: 402ms\tremaining: 9.18s\n",
            "21:\tlearn: 0.0383486\ttotal: 419ms\tremaining: 9.09s\n",
            "22:\tlearn: 0.0358751\ttotal: 435ms\tremaining: 9.02s\n",
            "23:\tlearn: 0.0350548\ttotal: 451ms\tremaining: 8.95s\n",
            "24:\tlearn: 0.0334189\ttotal: 467ms\tremaining: 8.88s\n",
            "25:\tlearn: 0.0326696\ttotal: 486ms\tremaining: 8.85s\n",
            "26:\tlearn: 0.0307820\ttotal: 502ms\tremaining: 8.8s\n",
            "27:\tlearn: 0.0297182\ttotal: 518ms\tremaining: 8.74s\n",
            "28:\tlearn: 0.0282152\ttotal: 535ms\tremaining: 8.68s\n",
            "29:\tlearn: 0.0270137\ttotal: 550ms\tremaining: 8.62s\n",
            "30:\tlearn: 0.0256340\ttotal: 567ms\tremaining: 8.58s\n",
            "31:\tlearn: 0.0252719\ttotal: 583ms\tremaining: 8.53s\n",
            "32:\tlearn: 0.0248713\ttotal: 599ms\tremaining: 8.48s\n",
            "33:\tlearn: 0.0238014\ttotal: 616ms\tremaining: 8.44s\n",
            "34:\tlearn: 0.0226417\ttotal: 633ms\tremaining: 8.41s\n",
            "35:\tlearn: 0.0211045\ttotal: 649ms\tremaining: 8.37s\n",
            "36:\tlearn: 0.0207941\ttotal: 665ms\tremaining: 8.33s\n",
            "37:\tlearn: 0.0196906\ttotal: 682ms\tremaining: 8.29s\n",
            "38:\tlearn: 0.0190620\ttotal: 701ms\tremaining: 8.28s\n",
            "39:\tlearn: 0.0184703\ttotal: 717ms\tremaining: 8.24s\n",
            "40:\tlearn: 0.0177310\ttotal: 733ms\tremaining: 8.21s\n",
            "41:\tlearn: 0.0163340\ttotal: 749ms\tremaining: 8.17s\n",
            "42:\tlearn: 0.0157662\ttotal: 766ms\tremaining: 8.14s\n",
            "43:\tlearn: 0.0152189\ttotal: 782ms\tremaining: 8.11s\n",
            "44:\tlearn: 0.0148332\ttotal: 800ms\tremaining: 8.09s\n",
            "45:\tlearn: 0.0143362\ttotal: 817ms\tremaining: 8.06s\n",
            "46:\tlearn: 0.0135926\ttotal: 833ms\tremaining: 8.03s\n",
            "47:\tlearn: 0.0134504\ttotal: 850ms\tremaining: 8s\n",
            "48:\tlearn: 0.0133778\ttotal: 866ms\tremaining: 7.97s\n",
            "49:\tlearn: 0.0127632\ttotal: 882ms\tremaining: 7.94s\n",
            "50:\tlearn: 0.0126421\ttotal: 898ms\tremaining: 7.91s\n",
            "51:\tlearn: 0.0124744\ttotal: 917ms\tremaining: 7.9s\n",
            "52:\tlearn: 0.0116356\ttotal: 933ms\tremaining: 7.87s\n",
            "53:\tlearn: 0.0110231\ttotal: 950ms\tremaining: 7.84s\n",
            "54:\tlearn: 0.0109088\ttotal: 966ms\tremaining: 7.82s\n",
            "55:\tlearn: 0.0107052\ttotal: 982ms\tremaining: 7.78s\n",
            "56:\tlearn: 0.0106215\ttotal: 998ms\tremaining: 7.75s\n",
            "57:\tlearn: 0.0100614\ttotal: 1.01s\tremaining: 7.73s\n",
            "58:\tlearn: 0.0099676\ttotal: 1.03s\tremaining: 7.7s\n",
            "59:\tlearn: 0.0097935\ttotal: 1.05s\tremaining: 7.67s\n",
            "60:\tlearn: 0.0096332\ttotal: 1.06s\tremaining: 7.64s\n",
            "61:\tlearn: 0.0095744\ttotal: 1.08s\tremaining: 7.62s\n",
            "62:\tlearn: 0.0094100\ttotal: 1.09s\tremaining: 7.6s\n",
            "63:\tlearn: 0.0090703\ttotal: 1.11s\tremaining: 7.57s\n",
            "64:\tlearn: 0.0090273\ttotal: 1.13s\tremaining: 7.56s\n",
            "65:\tlearn: 0.0087543\ttotal: 1.15s\tremaining: 7.54s\n",
            "66:\tlearn: 0.0085456\ttotal: 1.16s\tremaining: 7.51s\n",
            "67:\tlearn: 0.0085456\ttotal: 1.17s\tremaining: 7.46s\n",
            "68:\tlearn: 0.0080450\ttotal: 1.19s\tremaining: 7.44s\n",
            "69:\tlearn: 0.0077540\ttotal: 1.21s\tremaining: 7.42s\n",
            "70:\tlearn: 0.0074369\ttotal: 1.22s\tremaining: 7.4s\n",
            "71:\tlearn: 0.0071168\ttotal: 1.24s\tremaining: 7.38s\n",
            "72:\tlearn: 0.0068908\ttotal: 1.26s\tremaining: 7.37s\n",
            "73:\tlearn: 0.0067101\ttotal: 1.28s\tremaining: 7.38s\n",
            "74:\tlearn: 0.0065828\ttotal: 1.3s\tremaining: 7.35s\n",
            "75:\tlearn: 0.0063188\ttotal: 1.31s\tremaining: 7.33s\n",
            "76:\tlearn: 0.0061039\ttotal: 1.33s\tremaining: 7.33s\n",
            "77:\tlearn: 0.0057776\ttotal: 1.35s\tremaining: 7.3s\n",
            "78:\tlearn: 0.0057345\ttotal: 1.37s\tremaining: 7.28s\n",
            "79:\tlearn: 0.0055687\ttotal: 1.38s\tremaining: 7.24s\n",
            "80:\tlearn: 0.0055068\ttotal: 1.4s\tremaining: 7.22s\n",
            "81:\tlearn: 0.0053768\ttotal: 1.41s\tremaining: 7.2s\n",
            "82:\tlearn: 0.0052273\ttotal: 1.43s\tremaining: 7.17s\n",
            "83:\tlearn: 0.0050473\ttotal: 1.44s\tremaining: 7.15s\n",
            "84:\tlearn: 0.0049028\ttotal: 1.46s\tremaining: 7.13s\n",
            "85:\tlearn: 0.0048574\ttotal: 1.48s\tremaining: 7.11s\n",
            "86:\tlearn: 0.0048125\ttotal: 1.49s\tremaining: 7.08s\n",
            "87:\tlearn: 0.0046931\ttotal: 1.51s\tremaining: 7.06s\n",
            "88:\tlearn: 0.0046563\ttotal: 1.53s\tremaining: 7.06s\n",
            "89:\tlearn: 0.0044503\ttotal: 1.55s\tremaining: 7.05s\n",
            "90:\tlearn: 0.0043446\ttotal: 1.56s\tremaining: 7.03s\n",
            "91:\tlearn: 0.0042482\ttotal: 1.58s\tremaining: 7.01s\n",
            "92:\tlearn: 0.0041474\ttotal: 1.6s\tremaining: 6.99s\n",
            "93:\tlearn: 0.0041171\ttotal: 1.61s\tremaining: 6.96s\n",
            "94:\tlearn: 0.0039925\ttotal: 1.63s\tremaining: 6.95s\n",
            "95:\tlearn: 0.0038736\ttotal: 1.65s\tremaining: 6.93s\n",
            "96:\tlearn: 0.0036874\ttotal: 1.66s\tremaining: 6.91s\n",
            "97:\tlearn: 0.0036050\ttotal: 1.68s\tremaining: 6.89s\n",
            "98:\tlearn: 0.0035700\ttotal: 1.7s\tremaining: 6.87s\n",
            "99:\tlearn: 0.0035034\ttotal: 1.71s\tremaining: 6.84s\n",
            "100:\tlearn: 0.0034367\ttotal: 1.73s\tremaining: 6.82s\n",
            "101:\tlearn: 0.0033631\ttotal: 1.74s\tremaining: 6.8s\n",
            "102:\tlearn: 0.0032763\ttotal: 1.76s\tremaining: 6.79s\n",
            "103:\tlearn: 0.0032166\ttotal: 1.78s\tremaining: 6.77s\n",
            "104:\tlearn: 0.0032165\ttotal: 1.79s\tremaining: 6.73s\n",
            "105:\tlearn: 0.0032165\ttotal: 1.8s\tremaining: 6.69s\n",
            "106:\tlearn: 0.0032164\ttotal: 1.81s\tremaining: 6.66s\n",
            "107:\tlearn: 0.0032164\ttotal: 1.82s\tremaining: 6.62s\n",
            "108:\tlearn: 0.0032164\ttotal: 1.84s\tremaining: 6.59s\n",
            "109:\tlearn: 0.0032164\ttotal: 1.85s\tremaining: 6.55s\n",
            "110:\tlearn: 0.0032164\ttotal: 1.86s\tremaining: 6.52s\n",
            "111:\tlearn: 0.0031974\ttotal: 1.88s\tremaining: 6.5s\n",
            "112:\tlearn: 0.0031138\ttotal: 1.89s\tremaining: 6.48s\n",
            "113:\tlearn: 0.0029666\ttotal: 1.91s\tremaining: 6.46s\n",
            "114:\tlearn: 0.0029239\ttotal: 1.92s\tremaining: 6.44s\n",
            "115:\tlearn: 0.0028995\ttotal: 1.94s\tremaining: 6.42s\n",
            "116:\tlearn: 0.0028995\ttotal: 1.95s\tremaining: 6.39s\n",
            "117:\tlearn: 0.0028437\ttotal: 1.97s\tremaining: 6.38s\n",
            "118:\tlearn: 0.0027831\ttotal: 1.99s\tremaining: 6.36s\n",
            "119:\tlearn: 0.0027560\ttotal: 2s\tremaining: 6.34s\n",
            "120:\tlearn: 0.0026614\ttotal: 2.02s\tremaining: 6.33s\n",
            "121:\tlearn: 0.0026120\ttotal: 2.04s\tremaining: 6.3s\n",
            "122:\tlearn: 0.0026120\ttotal: 2.05s\tremaining: 6.28s\n",
            "123:\tlearn: 0.0025913\ttotal: 2.07s\tremaining: 6.27s\n",
            "124:\tlearn: 0.0025738\ttotal: 2.08s\tremaining: 6.25s\n",
            "125:\tlearn: 0.0025404\ttotal: 2.1s\tremaining: 6.23s\n",
            "126:\tlearn: 0.0024800\ttotal: 2.12s\tremaining: 6.23s\n",
            "127:\tlearn: 0.0024288\ttotal: 2.14s\tremaining: 6.21s\n",
            "128:\tlearn: 0.0024288\ttotal: 2.15s\tremaining: 6.18s\n",
            "129:\tlearn: 0.0024287\ttotal: 2.16s\tremaining: 6.15s\n",
            "130:\tlearn: 0.0024287\ttotal: 2.18s\tremaining: 6.13s\n",
            "131:\tlearn: 0.0023671\ttotal: 2.19s\tremaining: 6.12s\n",
            "132:\tlearn: 0.0023670\ttotal: 2.21s\tremaining: 6.09s\n",
            "133:\tlearn: 0.0023670\ttotal: 2.22s\tremaining: 6.06s\n",
            "134:\tlearn: 0.0023561\ttotal: 2.23s\tremaining: 6.03s\n",
            "135:\tlearn: 0.0022760\ttotal: 2.25s\tremaining: 6.02s\n",
            "136:\tlearn: 0.0022006\ttotal: 2.27s\tremaining: 6.01s\n",
            "137:\tlearn: 0.0022006\ttotal: 2.28s\tremaining: 5.99s\n",
            "138:\tlearn: 0.0021147\ttotal: 2.3s\tremaining: 5.97s\n",
            "139:\tlearn: 0.0020326\ttotal: 2.32s\tremaining: 5.96s\n",
            "140:\tlearn: 0.0020326\ttotal: 2.33s\tremaining: 5.92s\n",
            "141:\tlearn: 0.0020326\ttotal: 2.34s\tremaining: 5.9s\n",
            "142:\tlearn: 0.0020326\ttotal: 2.35s\tremaining: 5.87s\n",
            "143:\tlearn: 0.0020325\ttotal: 2.36s\tremaining: 5.84s\n",
            "144:\tlearn: 0.0020323\ttotal: 2.38s\tremaining: 5.82s\n",
            "145:\tlearn: 0.0020014\ttotal: 2.4s\tremaining: 5.81s\n",
            "146:\tlearn: 0.0019616\ttotal: 2.41s\tremaining: 5.78s\n",
            "147:\tlearn: 0.0019232\ttotal: 2.42s\tremaining: 5.77s\n",
            "148:\tlearn: 0.0019232\ttotal: 2.44s\tremaining: 5.74s\n",
            "149:\tlearn: 0.0019231\ttotal: 2.45s\tremaining: 5.71s\n",
            "150:\tlearn: 0.0019231\ttotal: 2.46s\tremaining: 5.68s\n",
            "151:\tlearn: 0.0019231\ttotal: 2.47s\tremaining: 5.66s\n",
            "152:\tlearn: 0.0019231\ttotal: 2.48s\tremaining: 5.63s\n",
            "153:\tlearn: 0.0019231\ttotal: 2.49s\tremaining: 5.6s\n",
            "154:\tlearn: 0.0019230\ttotal: 2.51s\tremaining: 5.58s\n",
            "155:\tlearn: 0.0019230\ttotal: 2.52s\tremaining: 5.55s\n",
            "156:\tlearn: 0.0019229\ttotal: 2.53s\tremaining: 5.53s\n",
            "157:\tlearn: 0.0019229\ttotal: 2.54s\tremaining: 5.5s\n",
            "158:\tlearn: 0.0019229\ttotal: 2.55s\tremaining: 5.48s\n",
            "159:\tlearn: 0.0018980\ttotal: 2.57s\tremaining: 5.45s\n",
            "160:\tlearn: 0.0018980\ttotal: 2.58s\tremaining: 5.43s\n",
            "161:\tlearn: 0.0018980\ttotal: 2.59s\tremaining: 5.4s\n",
            "162:\tlearn: 0.0018980\ttotal: 2.6s\tremaining: 5.38s\n",
            "163:\tlearn: 0.0018980\ttotal: 2.62s\tremaining: 5.36s\n",
            "164:\tlearn: 0.0018980\ttotal: 2.63s\tremaining: 5.33s\n",
            "165:\tlearn: 0.0018980\ttotal: 2.64s\tremaining: 5.31s\n",
            "166:\tlearn: 0.0018980\ttotal: 2.65s\tremaining: 5.28s\n",
            "167:\tlearn: 0.0018979\ttotal: 2.66s\tremaining: 5.26s\n",
            "168:\tlearn: 0.0018978\ttotal: 2.67s\tremaining: 5.24s\n",
            "169:\tlearn: 0.0018978\ttotal: 2.68s\tremaining: 5.21s\n",
            "170:\tlearn: 0.0018977\ttotal: 2.7s\tremaining: 5.19s\n",
            "171:\tlearn: 0.0018977\ttotal: 2.71s\tremaining: 5.17s\n",
            "172:\tlearn: 0.0018977\ttotal: 2.72s\tremaining: 5.14s\n",
            "173:\tlearn: 0.0018977\ttotal: 2.73s\tremaining: 5.12s\n",
            "174:\tlearn: 0.0018977\ttotal: 2.74s\tremaining: 5.09s\n",
            "175:\tlearn: 0.0018977\ttotal: 2.75s\tremaining: 5.07s\n",
            "176:\tlearn: 0.0018977\ttotal: 2.77s\tremaining: 5.05s\n",
            "177:\tlearn: 0.0018976\ttotal: 2.78s\tremaining: 5.02s\n",
            "178:\tlearn: 0.0018976\ttotal: 2.79s\tremaining: 5s\n",
            "179:\tlearn: 0.0018976\ttotal: 2.8s\tremaining: 4.98s\n",
            "180:\tlearn: 0.0018975\ttotal: 2.81s\tremaining: 4.96s\n",
            "181:\tlearn: 0.0018975\ttotal: 2.83s\tremaining: 4.94s\n",
            "182:\tlearn: 0.0018975\ttotal: 2.84s\tremaining: 4.92s\n",
            "183:\tlearn: 0.0018975\ttotal: 2.85s\tremaining: 4.9s\n",
            "184:\tlearn: 0.0018974\ttotal: 2.86s\tremaining: 4.88s\n",
            "185:\tlearn: 0.0018974\ttotal: 2.87s\tremaining: 4.85s\n",
            "186:\tlearn: 0.0018974\ttotal: 2.89s\tremaining: 4.83s\n",
            "187:\tlearn: 0.0018974\ttotal: 2.9s\tremaining: 4.81s\n",
            "188:\tlearn: 0.0018974\ttotal: 2.91s\tremaining: 4.79s\n",
            "189:\tlearn: 0.0018974\ttotal: 2.92s\tremaining: 4.77s\n",
            "190:\tlearn: 0.0018974\ttotal: 2.94s\tremaining: 4.75s\n",
            "191:\tlearn: 0.0018974\ttotal: 2.95s\tremaining: 4.73s\n",
            "192:\tlearn: 0.0018973\ttotal: 2.96s\tremaining: 4.71s\n",
            "193:\tlearn: 0.0018972\ttotal: 2.97s\tremaining: 4.68s\n",
            "194:\tlearn: 0.0018972\ttotal: 2.98s\tremaining: 4.66s\n",
            "195:\tlearn: 0.0018971\ttotal: 2.99s\tremaining: 4.64s\n",
            "196:\tlearn: 0.0018971\ttotal: 3s\tremaining: 4.62s\n",
            "197:\tlearn: 0.0018971\ttotal: 3.02s\tremaining: 4.61s\n",
            "198:\tlearn: 0.0018970\ttotal: 3.03s\tremaining: 4.59s\n",
            "199:\tlearn: 0.0018970\ttotal: 3.04s\tremaining: 4.57s\n",
            "200:\tlearn: 0.0018970\ttotal: 3.06s\tremaining: 4.55s\n",
            "201:\tlearn: 0.0018970\ttotal: 3.07s\tremaining: 4.53s\n",
            "202:\tlearn: 0.0018970\ttotal: 3.08s\tremaining: 4.5s\n",
            "203:\tlearn: 0.0018970\ttotal: 3.09s\tremaining: 4.49s\n",
            "204:\tlearn: 0.0018969\ttotal: 3.1s\tremaining: 4.46s\n",
            "205:\tlearn: 0.0018969\ttotal: 3.11s\tremaining: 4.45s\n",
            "206:\tlearn: 0.0018968\ttotal: 3.13s\tremaining: 4.42s\n",
            "207:\tlearn: 0.0018968\ttotal: 3.14s\tremaining: 4.41s\n",
            "208:\tlearn: 0.0018968\ttotal: 3.15s\tremaining: 4.38s\n",
            "209:\tlearn: 0.0018968\ttotal: 3.16s\tremaining: 4.37s\n",
            "210:\tlearn: 0.0018968\ttotal: 3.17s\tremaining: 4.34s\n",
            "211:\tlearn: 0.0018968\ttotal: 3.18s\tremaining: 4.33s\n",
            "212:\tlearn: 0.0018967\ttotal: 3.19s\tremaining: 4.31s\n",
            "213:\tlearn: 0.0018967\ttotal: 3.21s\tremaining: 4.29s\n",
            "214:\tlearn: 0.0018966\ttotal: 3.22s\tremaining: 4.27s\n",
            "215:\tlearn: 0.0018966\ttotal: 3.23s\tremaining: 4.25s\n",
            "216:\tlearn: 0.0018966\ttotal: 3.25s\tremaining: 4.23s\n",
            "217:\tlearn: 0.0018965\ttotal: 3.26s\tremaining: 4.21s\n",
            "218:\tlearn: 0.0018965\ttotal: 3.28s\tremaining: 4.21s\n",
            "219:\tlearn: 0.0018965\ttotal: 3.29s\tremaining: 4.19s\n",
            "220:\tlearn: 0.0018964\ttotal: 3.3s\tremaining: 4.17s\n",
            "221:\tlearn: 0.0018964\ttotal: 3.31s\tremaining: 4.15s\n",
            "222:\tlearn: 0.0018964\ttotal: 3.33s\tremaining: 4.13s\n",
            "223:\tlearn: 0.0018963\ttotal: 3.34s\tremaining: 4.12s\n",
            "224:\tlearn: 0.0018963\ttotal: 3.35s\tremaining: 4.1s\n",
            "225:\tlearn: 0.0018962\ttotal: 3.36s\tremaining: 4.08s\n",
            "226:\tlearn: 0.0018661\ttotal: 3.38s\tremaining: 4.07s\n",
            "227:\tlearn: 0.0018199\ttotal: 3.4s\tremaining: 4.05s\n",
            "228:\tlearn: 0.0018199\ttotal: 3.41s\tremaining: 4.03s\n",
            "229:\tlearn: 0.0017891\ttotal: 3.43s\tremaining: 4.03s\n",
            "230:\tlearn: 0.0017270\ttotal: 3.44s\tremaining: 4.01s\n",
            "231:\tlearn: 0.0017270\ttotal: 3.46s\tremaining: 4s\n",
            "232:\tlearn: 0.0017269\ttotal: 3.47s\tremaining: 3.98s\n",
            "233:\tlearn: 0.0017269\ttotal: 3.48s\tremaining: 3.96s\n",
            "234:\tlearn: 0.0017269\ttotal: 3.5s\tremaining: 3.94s\n",
            "235:\tlearn: 0.0017269\ttotal: 3.51s\tremaining: 3.93s\n",
            "236:\tlearn: 0.0017268\ttotal: 3.52s\tremaining: 3.91s\n",
            "237:\tlearn: 0.0017266\ttotal: 3.53s\tremaining: 3.89s\n",
            "238:\tlearn: 0.0017264\ttotal: 3.55s\tremaining: 3.87s\n",
            "239:\tlearn: 0.0017254\ttotal: 3.56s\tremaining: 3.85s\n",
            "240:\tlearn: 0.0017254\ttotal: 3.57s\tremaining: 3.84s\n",
            "241:\tlearn: 0.0017254\ttotal: 3.58s\tremaining: 3.82s\n",
            "242:\tlearn: 0.0017247\ttotal: 3.59s\tremaining: 3.8s\n",
            "243:\tlearn: 0.0017246\ttotal: 3.6s\tremaining: 3.78s\n",
            "244:\tlearn: 0.0017246\ttotal: 3.62s\tremaining: 3.76s\n",
            "245:\tlearn: 0.0017246\ttotal: 3.63s\tremaining: 3.75s\n",
            "246:\tlearn: 0.0017246\ttotal: 3.64s\tremaining: 3.73s\n",
            "247:\tlearn: 0.0017245\ttotal: 3.65s\tremaining: 3.71s\n",
            "248:\tlearn: 0.0017245\ttotal: 3.67s\tremaining: 3.7s\n",
            "249:\tlearn: 0.0017244\ttotal: 3.68s\tremaining: 3.68s\n",
            "250:\tlearn: 0.0017244\ttotal: 3.69s\tremaining: 3.66s\n",
            "251:\tlearn: 0.0017244\ttotal: 3.7s\tremaining: 3.64s\n",
            "252:\tlearn: 0.0017244\ttotal: 3.71s\tremaining: 3.63s\n",
            "253:\tlearn: 0.0017244\ttotal: 3.73s\tremaining: 3.61s\n",
            "254:\tlearn: 0.0017243\ttotal: 3.74s\tremaining: 3.59s\n",
            "255:\tlearn: 0.0017243\ttotal: 3.75s\tremaining: 3.57s\n",
            "256:\tlearn: 0.0017243\ttotal: 3.76s\tremaining: 3.56s\n",
            "257:\tlearn: 0.0017243\ttotal: 3.77s\tremaining: 3.54s\n",
            "258:\tlearn: 0.0017242\ttotal: 3.78s\tremaining: 3.52s\n",
            "259:\tlearn: 0.0017242\ttotal: 3.79s\tremaining: 3.5s\n",
            "260:\tlearn: 0.0017242\ttotal: 3.81s\tremaining: 3.48s\n",
            "261:\tlearn: 0.0017242\ttotal: 3.82s\tremaining: 3.47s\n",
            "262:\tlearn: 0.0017242\ttotal: 3.83s\tremaining: 3.45s\n",
            "263:\tlearn: 0.0017240\ttotal: 3.85s\tremaining: 3.44s\n",
            "264:\tlearn: 0.0017231\ttotal: 3.87s\tremaining: 3.44s\n",
            "265:\tlearn: 0.0017230\ttotal: 3.89s\tremaining: 3.42s\n",
            "266:\tlearn: 0.0017229\ttotal: 3.91s\tremaining: 3.42s\n",
            "267:\tlearn: 0.0017228\ttotal: 3.93s\tremaining: 3.4s\n",
            "268:\tlearn: 0.0017227\ttotal: 3.94s\tremaining: 3.38s\n",
            "269:\tlearn: 0.0017227\ttotal: 3.95s\tremaining: 3.36s\n",
            "270:\tlearn: 0.0017226\ttotal: 3.96s\tremaining: 3.35s\n",
            "271:\tlearn: 0.0017226\ttotal: 3.97s\tremaining: 3.33s\n",
            "272:\tlearn: 0.0017226\ttotal: 3.98s\tremaining: 3.31s\n",
            "273:\tlearn: 0.0017225\ttotal: 4s\tremaining: 3.3s\n",
            "274:\tlearn: 0.0017224\ttotal: 4.01s\tremaining: 3.28s\n",
            "275:\tlearn: 0.0017222\ttotal: 4.02s\tremaining: 3.26s\n",
            "276:\tlearn: 0.0017222\ttotal: 4.03s\tremaining: 3.25s\n",
            "277:\tlearn: 0.0017212\ttotal: 4.04s\tremaining: 3.23s\n",
            "278:\tlearn: 0.0017211\ttotal: 4.06s\tremaining: 3.21s\n",
            "279:\tlearn: 0.0017201\ttotal: 4.07s\tremaining: 3.2s\n",
            "280:\tlearn: 0.0017200\ttotal: 4.08s\tremaining: 3.18s\n",
            "281:\tlearn: 0.0017191\ttotal: 4.1s\tremaining: 3.17s\n",
            "282:\tlearn: 0.0017182\ttotal: 4.11s\tremaining: 3.15s\n",
            "283:\tlearn: 0.0017182\ttotal: 4.12s\tremaining: 3.13s\n",
            "284:\tlearn: 0.0017182\ttotal: 4.13s\tremaining: 3.12s\n",
            "285:\tlearn: 0.0017181\ttotal: 4.14s\tremaining: 3.1s\n",
            "286:\tlearn: 0.0017181\ttotal: 4.16s\tremaining: 3.08s\n",
            "287:\tlearn: 0.0017179\ttotal: 4.17s\tremaining: 3.07s\n",
            "288:\tlearn: 0.0017179\ttotal: 4.18s\tremaining: 3.05s\n",
            "289:\tlearn: 0.0017178\ttotal: 4.19s\tremaining: 3.04s\n",
            "290:\tlearn: 0.0017177\ttotal: 4.2s\tremaining: 3.02s\n",
            "291:\tlearn: 0.0017177\ttotal: 4.21s\tremaining: 3s\n",
            "292:\tlearn: 0.0017177\ttotal: 4.23s\tremaining: 2.99s\n",
            "293:\tlearn: 0.0017177\ttotal: 4.24s\tremaining: 2.97s\n",
            "294:\tlearn: 0.0017175\ttotal: 4.25s\tremaining: 2.95s\n",
            "295:\tlearn: 0.0017175\ttotal: 4.27s\tremaining: 2.95s\n",
            "296:\tlearn: 0.0017175\ttotal: 4.29s\tremaining: 2.93s\n",
            "297:\tlearn: 0.0017175\ttotal: 4.3s\tremaining: 2.91s\n",
            "298:\tlearn: 0.0017174\ttotal: 4.31s\tremaining: 2.9s\n",
            "299:\tlearn: 0.0017172\ttotal: 4.32s\tremaining: 2.88s\n",
            "300:\tlearn: 0.0017172\ttotal: 4.33s\tremaining: 2.87s\n",
            "301:\tlearn: 0.0017172\ttotal: 4.35s\tremaining: 2.85s\n",
            "302:\tlearn: 0.0017163\ttotal: 4.36s\tremaining: 2.83s\n",
            "303:\tlearn: 0.0017158\ttotal: 4.37s\tremaining: 2.82s\n",
            "304:\tlearn: 0.0017040\ttotal: 4.38s\tremaining: 2.8s\n",
            "305:\tlearn: 0.0017039\ttotal: 4.39s\tremaining: 2.79s\n",
            "306:\tlearn: 0.0017038\ttotal: 4.41s\tremaining: 2.77s\n",
            "307:\tlearn: 0.0017034\ttotal: 4.42s\tremaining: 2.75s\n",
            "308:\tlearn: 0.0017033\ttotal: 4.43s\tremaining: 2.74s\n",
            "309:\tlearn: 0.0017033\ttotal: 4.44s\tremaining: 2.72s\n",
            "310:\tlearn: 0.0017033\ttotal: 4.45s\tremaining: 2.71s\n",
            "311:\tlearn: 0.0017032\ttotal: 4.46s\tremaining: 2.69s\n",
            "312:\tlearn: 0.0017032\ttotal: 4.48s\tremaining: 2.68s\n",
            "313:\tlearn: 0.0017032\ttotal: 4.49s\tremaining: 2.66s\n",
            "314:\tlearn: 0.0017031\ttotal: 4.5s\tremaining: 2.65s\n",
            "315:\tlearn: 0.0017031\ttotal: 4.52s\tremaining: 2.63s\n",
            "316:\tlearn: 0.0017025\ttotal: 4.53s\tremaining: 2.61s\n",
            "317:\tlearn: 0.0017025\ttotal: 4.54s\tremaining: 2.6s\n",
            "318:\tlearn: 0.0017024\ttotal: 4.55s\tremaining: 2.58s\n",
            "319:\tlearn: 0.0017024\ttotal: 4.56s\tremaining: 2.57s\n",
            "320:\tlearn: 0.0017024\ttotal: 4.58s\tremaining: 2.55s\n",
            "321:\tlearn: 0.0017022\ttotal: 4.59s\tremaining: 2.54s\n",
            "322:\tlearn: 0.0017021\ttotal: 4.6s\tremaining: 2.52s\n",
            "323:\tlearn: 0.0017021\ttotal: 4.61s\tremaining: 2.5s\n",
            "324:\tlearn: 0.0017020\ttotal: 4.62s\tremaining: 2.49s\n",
            "325:\tlearn: 0.0017019\ttotal: 4.64s\tremaining: 2.47s\n",
            "326:\tlearn: 0.0017018\ttotal: 4.65s\tremaining: 2.46s\n",
            "327:\tlearn: 0.0017018\ttotal: 4.66s\tremaining: 2.44s\n",
            "328:\tlearn: 0.0017017\ttotal: 4.67s\tremaining: 2.43s\n",
            "329:\tlearn: 0.0017017\ttotal: 4.68s\tremaining: 2.41s\n",
            "330:\tlearn: 0.0017013\ttotal: 4.7s\tremaining: 2.4s\n",
            "331:\tlearn: 0.0017012\ttotal: 4.71s\tremaining: 2.38s\n",
            "332:\tlearn: 0.0016939\ttotal: 4.72s\tremaining: 2.37s\n",
            "333:\tlearn: 0.0016939\ttotal: 4.73s\tremaining: 2.35s\n",
            "334:\tlearn: 0.0016939\ttotal: 4.75s\tremaining: 2.34s\n",
            "335:\tlearn: 0.0016937\ttotal: 4.76s\tremaining: 2.32s\n",
            "336:\tlearn: 0.0016937\ttotal: 4.77s\tremaining: 2.31s\n",
            "337:\tlearn: 0.0016937\ttotal: 4.78s\tremaining: 2.29s\n",
            "338:\tlearn: 0.0016936\ttotal: 4.79s\tremaining: 2.28s\n",
            "339:\tlearn: 0.0016936\ttotal: 4.8s\tremaining: 2.26s\n",
            "340:\tlearn: 0.0016936\ttotal: 4.82s\tremaining: 2.25s\n",
            "341:\tlearn: 0.0016935\ttotal: 4.83s\tremaining: 2.23s\n",
            "342:\tlearn: 0.0016934\ttotal: 4.84s\tremaining: 2.22s\n",
            "343:\tlearn: 0.0016934\ttotal: 4.85s\tremaining: 2.2s\n",
            "344:\tlearn: 0.0016934\ttotal: 4.87s\tremaining: 2.19s\n",
            "345:\tlearn: 0.0016934\ttotal: 4.88s\tremaining: 2.17s\n",
            "346:\tlearn: 0.0016934\ttotal: 4.9s\tremaining: 2.16s\n",
            "347:\tlearn: 0.0016934\ttotal: 4.91s\tremaining: 2.14s\n",
            "348:\tlearn: 0.0016932\ttotal: 4.92s\tremaining: 2.13s\n",
            "349:\tlearn: 0.0016932\ttotal: 4.93s\tremaining: 2.11s\n",
            "350:\tlearn: 0.0016931\ttotal: 4.94s\tremaining: 2.1s\n",
            "351:\tlearn: 0.0016931\ttotal: 4.96s\tremaining: 2.08s\n",
            "352:\tlearn: 0.0016931\ttotal: 4.97s\tremaining: 2.07s\n",
            "353:\tlearn: 0.0016931\ttotal: 4.98s\tremaining: 2.05s\n",
            "354:\tlearn: 0.0016931\ttotal: 4.99s\tremaining: 2.04s\n",
            "355:\tlearn: 0.0016931\ttotal: 5s\tremaining: 2.02s\n",
            "356:\tlearn: 0.0016931\ttotal: 5.01s\tremaining: 2.01s\n",
            "357:\tlearn: 0.0016931\ttotal: 5.03s\tremaining: 1.99s\n",
            "358:\tlearn: 0.0016931\ttotal: 5.04s\tremaining: 1.98s\n",
            "359:\tlearn: 0.0016931\ttotal: 5.05s\tremaining: 1.96s\n",
            "360:\tlearn: 0.0016931\ttotal: 5.06s\tremaining: 1.95s\n",
            "361:\tlearn: 0.0016931\ttotal: 5.07s\tremaining: 1.93s\n",
            "362:\tlearn: 0.0016931\ttotal: 5.08s\tremaining: 1.92s\n",
            "363:\tlearn: 0.0016930\ttotal: 5.1s\tremaining: 1.91s\n",
            "364:\tlearn: 0.0016930\ttotal: 5.11s\tremaining: 1.89s\n",
            "365:\tlearn: 0.0016930\ttotal: 5.13s\tremaining: 1.88s\n",
            "366:\tlearn: 0.0016930\ttotal: 5.14s\tremaining: 1.86s\n",
            "367:\tlearn: 0.0016930\ttotal: 5.15s\tremaining: 1.85s\n",
            "368:\tlearn: 0.0016930\ttotal: 5.16s\tremaining: 1.83s\n",
            "369:\tlearn: 0.0016930\ttotal: 5.17s\tremaining: 1.82s\n",
            "370:\tlearn: 0.0016930\ttotal: 5.18s\tremaining: 1.8s\n",
            "371:\tlearn: 0.0016929\ttotal: 5.2s\tremaining: 1.79s\n",
            "372:\tlearn: 0.0016929\ttotal: 5.21s\tremaining: 1.77s\n",
            "373:\tlearn: 0.0016929\ttotal: 5.22s\tremaining: 1.76s\n",
            "374:\tlearn: 0.0016927\ttotal: 5.23s\tremaining: 1.74s\n",
            "375:\tlearn: 0.0016926\ttotal: 5.24s\tremaining: 1.73s\n",
            "376:\tlearn: 0.0016926\ttotal: 5.26s\tremaining: 1.71s\n",
            "377:\tlearn: 0.0016926\ttotal: 5.27s\tremaining: 1.7s\n",
            "378:\tlearn: 0.0016926\ttotal: 5.29s\tremaining: 1.69s\n",
            "379:\tlearn: 0.0016925\ttotal: 5.3s\tremaining: 1.67s\n",
            "380:\tlearn: 0.0016925\ttotal: 5.31s\tremaining: 1.66s\n",
            "381:\tlearn: 0.0016925\ttotal: 5.32s\tremaining: 1.64s\n",
            "382:\tlearn: 0.0016925\ttotal: 5.34s\tremaining: 1.63s\n",
            "383:\tlearn: 0.0016924\ttotal: 5.35s\tremaining: 1.61s\n",
            "384:\tlearn: 0.0016920\ttotal: 5.36s\tremaining: 1.6s\n",
            "385:\tlearn: 0.0016919\ttotal: 5.37s\tremaining: 1.59s\n",
            "386:\tlearn: 0.0016919\ttotal: 5.38s\tremaining: 1.57s\n",
            "387:\tlearn: 0.0016919\ttotal: 5.4s\tremaining: 1.56s\n",
            "388:\tlearn: 0.0016918\ttotal: 5.41s\tremaining: 1.54s\n",
            "389:\tlearn: 0.0016918\ttotal: 5.42s\tremaining: 1.53s\n",
            "390:\tlearn: 0.0016918\ttotal: 5.43s\tremaining: 1.51s\n",
            "391:\tlearn: 0.0016917\ttotal: 5.45s\tremaining: 1.5s\n",
            "392:\tlearn: 0.0016917\ttotal: 5.46s\tremaining: 1.49s\n",
            "393:\tlearn: 0.0016916\ttotal: 5.47s\tremaining: 1.47s\n",
            "394:\tlearn: 0.0016916\ttotal: 5.48s\tremaining: 1.46s\n",
            "395:\tlearn: 0.0016916\ttotal: 5.49s\tremaining: 1.44s\n",
            "396:\tlearn: 0.0016916\ttotal: 5.5s\tremaining: 1.43s\n",
            "397:\tlearn: 0.0016916\ttotal: 5.52s\tremaining: 1.42s\n",
            "398:\tlearn: 0.0016915\ttotal: 5.54s\tremaining: 1.4s\n",
            "399:\tlearn: 0.0016915\ttotal: 5.55s\tremaining: 1.39s\n",
            "400:\tlearn: 0.0016914\ttotal: 5.56s\tremaining: 1.37s\n",
            "401:\tlearn: 0.0016913\ttotal: 5.57s\tremaining: 1.36s\n",
            "402:\tlearn: 0.0016912\ttotal: 5.58s\tremaining: 1.34s\n",
            "403:\tlearn: 0.0016912\ttotal: 5.59s\tremaining: 1.33s\n",
            "404:\tlearn: 0.0016912\ttotal: 5.61s\tremaining: 1.31s\n",
            "405:\tlearn: 0.0016910\ttotal: 5.62s\tremaining: 1.3s\n",
            "406:\tlearn: 0.0016910\ttotal: 5.63s\tremaining: 1.29s\n",
            "407:\tlearn: 0.0016909\ttotal: 5.64s\tremaining: 1.27s\n",
            "408:\tlearn: 0.0016906\ttotal: 5.66s\tremaining: 1.26s\n",
            "409:\tlearn: 0.0016905\ttotal: 5.67s\tremaining: 1.24s\n",
            "410:\tlearn: 0.0016905\ttotal: 5.68s\tremaining: 1.23s\n",
            "411:\tlearn: 0.0016905\ttotal: 5.69s\tremaining: 1.22s\n",
            "412:\tlearn: 0.0016905\ttotal: 5.7s\tremaining: 1.2s\n",
            "413:\tlearn: 0.0016903\ttotal: 5.71s\tremaining: 1.19s\n",
            "414:\tlearn: 0.0016903\ttotal: 5.73s\tremaining: 1.17s\n",
            "415:\tlearn: 0.0016902\ttotal: 5.74s\tremaining: 1.16s\n",
            "416:\tlearn: 0.0016902\ttotal: 5.75s\tremaining: 1.15s\n",
            "417:\tlearn: 0.0016901\ttotal: 5.77s\tremaining: 1.13s\n",
            "418:\tlearn: 0.0016901\ttotal: 5.78s\tremaining: 1.12s\n",
            "419:\tlearn: 0.0016901\ttotal: 5.79s\tremaining: 1.1s\n",
            "420:\tlearn: 0.0016901\ttotal: 5.8s\tremaining: 1.09s\n",
            "421:\tlearn: 0.0016900\ttotal: 5.82s\tremaining: 1.07s\n",
            "422:\tlearn: 0.0016900\ttotal: 5.83s\tremaining: 1.06s\n",
            "423:\tlearn: 0.0016899\ttotal: 5.84s\tremaining: 1.05s\n",
            "424:\tlearn: 0.0016899\ttotal: 5.85s\tremaining: 1.03s\n",
            "425:\tlearn: 0.0016898\ttotal: 5.87s\tremaining: 1.02s\n",
            "426:\tlearn: 0.0016897\ttotal: 5.88s\tremaining: 1s\n",
            "427:\tlearn: 0.0016897\ttotal: 5.89s\tremaining: 992ms\n",
            "428:\tlearn: 0.0016897\ttotal: 5.91s\tremaining: 978ms\n",
            "429:\tlearn: 0.0016896\ttotal: 5.92s\tremaining: 964ms\n",
            "430:\tlearn: 0.0016896\ttotal: 5.93s\tremaining: 950ms\n",
            "431:\tlearn: 0.0016894\ttotal: 5.95s\tremaining: 936ms\n",
            "432:\tlearn: 0.0016892\ttotal: 5.96s\tremaining: 922ms\n",
            "433:\tlearn: 0.0016890\ttotal: 5.97s\tremaining: 908ms\n",
            "434:\tlearn: 0.0016890\ttotal: 5.98s\tremaining: 894ms\n",
            "435:\tlearn: 0.0016885\ttotal: 6s\tremaining: 880ms\n",
            "436:\tlearn: 0.0016885\ttotal: 6.01s\tremaining: 866ms\n",
            "437:\tlearn: 0.0016884\ttotal: 6.02s\tremaining: 852ms\n",
            "438:\tlearn: 0.0016884\ttotal: 6.03s\tremaining: 838ms\n",
            "439:\tlearn: 0.0016884\ttotal: 6.04s\tremaining: 824ms\n",
            "440:\tlearn: 0.0016883\ttotal: 6.05s\tremaining: 810ms\n",
            "441:\tlearn: 0.0016883\ttotal: 6.07s\tremaining: 796ms\n",
            "442:\tlearn: 0.0016883\ttotal: 6.08s\tremaining: 782ms\n",
            "443:\tlearn: 0.0016883\ttotal: 6.09s\tremaining: 768ms\n",
            "444:\tlearn: 0.0016882\ttotal: 6.1s\tremaining: 754ms\n",
            "445:\tlearn: 0.0016882\ttotal: 6.11s\tremaining: 740ms\n",
            "446:\tlearn: 0.0016882\ttotal: 6.13s\tremaining: 726ms\n",
            "447:\tlearn: 0.0016882\ttotal: 6.14s\tremaining: 713ms\n",
            "448:\tlearn: 0.0016881\ttotal: 6.15s\tremaining: 699ms\n",
            "449:\tlearn: 0.0016881\ttotal: 6.16s\tremaining: 685ms\n",
            "450:\tlearn: 0.0016881\ttotal: 6.18s\tremaining: 671ms\n",
            "451:\tlearn: 0.0016880\ttotal: 6.19s\tremaining: 657ms\n",
            "452:\tlearn: 0.0016880\ttotal: 6.2s\tremaining: 643ms\n",
            "453:\tlearn: 0.0016880\ttotal: 6.21s\tremaining: 629ms\n",
            "454:\tlearn: 0.0016879\ttotal: 6.22s\tremaining: 615ms\n",
            "455:\tlearn: 0.0016874\ttotal: 6.24s\tremaining: 602ms\n",
            "456:\tlearn: 0.0016873\ttotal: 6.25s\tremaining: 588ms\n",
            "457:\tlearn: 0.0016873\ttotal: 6.26s\tremaining: 574ms\n",
            "458:\tlearn: 0.0016873\ttotal: 6.28s\tremaining: 561ms\n",
            "459:\tlearn: 0.0016872\ttotal: 6.29s\tremaining: 547ms\n",
            "460:\tlearn: 0.0016872\ttotal: 6.3s\tremaining: 533ms\n",
            "461:\tlearn: 0.0016872\ttotal: 6.32s\tremaining: 520ms\n",
            "462:\tlearn: 0.0016872\ttotal: 6.33s\tremaining: 506ms\n",
            "463:\tlearn: 0.0016872\ttotal: 6.34s\tremaining: 492ms\n",
            "464:\tlearn: 0.0016872\ttotal: 6.35s\tremaining: 478ms\n",
            "465:\tlearn: 0.0016871\ttotal: 6.37s\tremaining: 464ms\n",
            "466:\tlearn: 0.0016871\ttotal: 6.38s\tremaining: 451ms\n",
            "467:\tlearn: 0.0016870\ttotal: 6.39s\tremaining: 437ms\n",
            "468:\tlearn: 0.0016870\ttotal: 6.4s\tremaining: 423ms\n",
            "469:\tlearn: 0.0016870\ttotal: 6.41s\tremaining: 409ms\n",
            "470:\tlearn: 0.0016870\ttotal: 6.42s\tremaining: 396ms\n",
            "471:\tlearn: 0.0016869\ttotal: 6.43s\tremaining: 382ms\n",
            "472:\tlearn: 0.0016869\ttotal: 6.45s\tremaining: 368ms\n",
            "473:\tlearn: 0.0016869\ttotal: 6.46s\tremaining: 354ms\n",
            "474:\tlearn: 0.0016869\ttotal: 6.47s\tremaining: 341ms\n",
            "475:\tlearn: 0.0016869\ttotal: 6.48s\tremaining: 327ms\n",
            "476:\tlearn: 0.0016869\ttotal: 6.5s\tremaining: 313ms\n",
            "477:\tlearn: 0.0016869\ttotal: 6.51s\tremaining: 300ms\n",
            "478:\tlearn: 0.0016869\ttotal: 6.52s\tremaining: 286ms\n",
            "479:\tlearn: 0.0016869\ttotal: 6.53s\tremaining: 272ms\n",
            "480:\tlearn: 0.0016868\ttotal: 6.55s\tremaining: 259ms\n",
            "481:\tlearn: 0.0016868\ttotal: 6.56s\tremaining: 245ms\n",
            "482:\tlearn: 0.0016868\ttotal: 6.57s\tremaining: 231ms\n",
            "483:\tlearn: 0.0016868\ttotal: 6.59s\tremaining: 218ms\n",
            "484:\tlearn: 0.0016868\ttotal: 6.6s\tremaining: 204ms\n",
            "485:\tlearn: 0.0016868\ttotal: 6.61s\tremaining: 190ms\n",
            "486:\tlearn: 0.0016868\ttotal: 6.62s\tremaining: 177ms\n",
            "487:\tlearn: 0.0016868\ttotal: 6.63s\tremaining: 163ms\n",
            "488:\tlearn: 0.0016868\ttotal: 6.64s\tremaining: 149ms\n",
            "489:\tlearn: 0.0016868\ttotal: 6.66s\tremaining: 136ms\n",
            "490:\tlearn: 0.0016868\ttotal: 6.67s\tremaining: 122ms\n",
            "491:\tlearn: 0.0016867\ttotal: 6.68s\tremaining: 109ms\n",
            "492:\tlearn: 0.0016867\ttotal: 6.69s\tremaining: 95ms\n",
            "493:\tlearn: 0.0016867\ttotal: 6.7s\tremaining: 81.4ms\n",
            "494:\tlearn: 0.0016867\ttotal: 6.71s\tremaining: 67.8ms\n",
            "495:\tlearn: 0.0016867\ttotal: 6.72s\tremaining: 54.2ms\n",
            "496:\tlearn: 0.0016867\ttotal: 6.74s\tremaining: 40.7ms\n",
            "497:\tlearn: 0.0016867\ttotal: 6.75s\tremaining: 27.1ms\n",
            "498:\tlearn: 0.0016867\ttotal: 6.76s\tremaining: 13.6ms\n",
            "499:\tlearn: 0.0016867\ttotal: 6.78s\tremaining: 0us\n"
          ],
          "name": "stdout"
        },
        {
          "output_type": "execute_result",
          "data": {
            "text/plain": [
              "<catboost.core.CatBoostClassifier at 0x7ff1f4f39ba8>"
            ]
          },
          "metadata": {
            "tags": []
          },
          "execution_count": 65
        }
      ]
    },
    {
      "cell_type": "code",
      "metadata": {
        "id": "Kao23s2IbPDP",
        "colab_type": "code",
        "colab": {}
      },
      "source": [
        "y_pred = cb_cl.predict(x_pred)"
      ],
      "execution_count": 0,
      "outputs": []
    },
    {
      "cell_type": "code",
      "metadata": {
        "id": "GLoDu73zbUcU",
        "colab_type": "code",
        "colab": {}
      },
      "source": [
        "submission_df = pd.DataFrame({'INCIDENT_ID':df_Test['INCIDENT_ID'], 'MULTIPLE_OFFENSE':y_pred})\n",
        "submission_df.to_csv('Sample Submission CB v1.csv', index=False)"
      ],
      "execution_count": 0,
      "outputs": []
    }
  ]
}